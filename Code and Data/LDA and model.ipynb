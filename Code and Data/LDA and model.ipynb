{
 "cells": [
  {
   "cell_type": "code",
   "execution_count": null,
   "metadata": {
    "cell_id": "00000-2f723ccb-6935-467c-a14f-6844eb3d4243",
    "deepnote_cell_type": "code",
    "tags": []
   },
   "outputs": [],
   "source": [
    "!pip install pyLDAvis==3.3.1"
   ]
  },
  {
   "cell_type": "code",
   "execution_count": null,
   "metadata": {
    "cell_id": "00000-18b2c535-785f-4ffb-a9cc-edae66c06738",
    "deepnote_cell_type": "code",
    "deepnote_output_heights": [
     null,
     21.1875
    ],
    "deepnote_to_be_reexecuted": false,
    "execution_millis": 1178,
    "execution_start": 1638707372783,
    "source_hash": "e9fd6e63",
    "tags": []
   },
   "outputs": [
    {
     "name": "stderr",
     "output_type": "stream",
     "text": [
      "[nltk_data] Downloading package stopwords to /root/nltk_data...\n",
      "[nltk_data]   Unzipping corpora/stopwords.zip.\n",
      "[nltk_data] Downloading package averaged_perceptron_tagger to\n",
      "[nltk_data]     /root/nltk_data...\n",
      "[nltk_data]   Unzipping taggers/averaged_perceptron_tagger.zip.\n"
     ]
    },
    {
     "data": {
      "text/plain": [
       "True"
      ]
     },
     "execution_count": 4,
     "metadata": {},
     "output_type": "execute_result"
    }
   ],
   "source": [
    "import nltk\n",
    "import gensim\n",
    "import numpy as np\n",
    "import pandas as pd\n",
    "import seaborn as sns\n",
    "import lightgbm as lgb\n",
    "import xgboost as xgb\n",
    "from sklearn import svm\n",
    "from nltk.stem import PorterStemmer\n",
    "from nltk.corpus import stopwords\n",
    "from sklearn.metrics import accuracy_score, mean_squared_error\n",
    "from sklearn.model_selection import train_test_split\n",
    "from sklearn.feature_extraction.text import TfidfVectorizer\n",
    "from gensim import corpora\n",
    "\n",
    "df=pd.read_csv('data.csv')\n",
    "nltk.download('stopwords')\n",
    "nltk.download('averaged_perceptron_tagger')\n"
   ]
  },
  {
   "cell_type": "code",
   "execution_count": null,
   "metadata": {
    "cell_id": "00001-34185e18-a885-4409-bb9b-17833c5b027f",
    "deepnote_cell_type": "code",
    "deepnote_to_be_reexecuted": false,
    "execution_millis": 165,
    "execution_start": 1638707374296,
    "source_hash": "540fb8b9",
    "tags": []
   },
   "outputs": [
    {
     "name": "stdout",
     "output_type": "stream",
     "text": [
      "6859\n"
     ]
    }
   ],
   "source": [
    "\n",
    "data_remove_duplicatedContentUrl = df.drop_duplicates('Content_url')\n",
    "print(len(data_remove_duplicatedContentUrl))\n",
    "\n",
    "# reset index\n",
    "data_remove_duplicatedContentUrl.reset_index(inplace=True,drop=True)"
   ]
  },
  {
   "cell_type": "code",
   "execution_count": null,
   "metadata": {
    "cell_id": "00003-8791f82a-592b-4d72-b299-258c8c3c5e4f",
    "deepnote_cell_type": "code",
    "deepnote_to_be_reexecuted": false,
    "execution_millis": 364435,
    "execution_start": 1638707377134,
    "source_hash": "d69c5fae",
    "tags": []
   },
   "outputs": [],
   "source": [
    "\n",
    "new_df = data_remove_duplicatedContentUrl.copy(deep=True) \n",
    "ps = PorterStemmer()\n",
    "\n",
    "def nlp_processing(desc):\n",
    "    # word  word_tokenize on description\n",
    "    token_list1 = [] \n",
    "    wordpunkt_tkn = nltk.WordPunctTokenizer()\n",
    "    tokens = wordpunkt_tkn.tokenize(desc)\n",
    "    # tokens = nltk.word_tokenize(desc)\n",
    "    \n",
    "    #stop words \n",
    "    stop = set(stopwords.words('english'))\n",
    "    for token in tokens:\n",
    "        if token not in stop:\n",
    "            token_list1.append(token)\n",
    "        \n",
    "    token_tag = nltk.pos_tag(token_list1)\n",
    "    pos_tags = ['VBN', 'VBD', 'JJ', 'JJS', 'JJR', 'CD', 'NN', 'NNS', 'NNP', 'NNPS']\n",
    "    filtered_tokens1 = [x for x, tag in token_tag if tag in pos_tags]\n",
    "    \n",
    "    # stem words.\n",
    "    stemmed_tokens = [ps.stem(x).lower() for x in filtered_tokens1]\n",
    "    return set(stemmed_tokens)\n",
    "\n",
    "\n",
    "new_df['des_word'] = new_df[new_df['Content_text'].notnull()]['Content_text'].map(nlp_processing)"
   ]
  },
  {
   "cell_type": "code",
   "execution_count": null,
   "metadata": {
    "cell_id": "00005-060873b2-d7fe-4d61-9294-fa13badd9f7a",
    "deepnote_cell_type": "code",
    "deepnote_to_be_reexecuted": false,
    "execution_millis": 232,
    "execution_start": 1638756466328,
    "source_hash": "8b8cbd7",
    "tags": []
   },
   "outputs": [
    {
     "ename": "NameError",
     "evalue": "name 'new_df' is not defined",
     "output_type": "error",
     "traceback": [
      "\u001b[0;31m---------------------------------------------------------------------------\u001b[0m",
      "\u001b[0;31mNameError\u001b[0m                                 Traceback (most recent call last)",
      "\u001b[0;32m<ipython-input-1-7ec70340b31c>\u001b[0m in \u001b[0;36m<module>\u001b[0;34m\u001b[0m\n\u001b[1;32m     30\u001b[0m \u001b[0;34m\u001b[0m\u001b[0m\n\u001b[1;32m     31\u001b[0m \u001b[0;34m\u001b[0m\u001b[0m\n\u001b[0;32m---> 32\u001b[0;31m \u001b[0mdf_temp\u001b[0m\u001b[0;34m=\u001b[0m\u001b[0mnew_df\u001b[0m\u001b[0;34m.\u001b[0m\u001b[0mcopy\u001b[0m\u001b[0;34m(\u001b[0m\u001b[0mdeep\u001b[0m\u001b[0;34m=\u001b[0m\u001b[0;32mTrue\u001b[0m\u001b[0;34m)\u001b[0m\u001b[0;34m\u001b[0m\u001b[0;34m\u001b[0m\u001b[0m\n\u001b[0m\u001b[1;32m     33\u001b[0m \u001b[0;31m# func()将set list里的关键词对应招聘要求，把招聘要求中存在的相同关键词添加为feature，并设定为1，没有则为0\u001b[0m\u001b[0;34m\u001b[0m\u001b[0;34m\u001b[0m\u001b[0;34m\u001b[0m\u001b[0m\n\u001b[1;32m     34\u001b[0m \u001b[0;32mdef\u001b[0m \u001b[0madd_feature_set\u001b[0m\u001b[0;34m(\u001b[0m\u001b[0mset_customer\u001b[0m\u001b[0;34m,\u001b[0m \u001b[0mdf\u001b[0m\u001b[0;34m)\u001b[0m\u001b[0;34m:\u001b[0m\u001b[0;34m\u001b[0m\u001b[0;34m\u001b[0m\u001b[0m\n",
      "\u001b[0;31mNameError\u001b[0m: name 'new_df' is not defined"
     ]
    }
   ],
   "source": [
    "\n",
    "\n",
    "KeyTools = set(['rust', 'php', 'cntk','google+cloud', 'sql+server','amazon+web+services','lightgbm', 'kubeflow','unixlinux', 'postgressql', 'postgresql', 'postgres', 'hbase', 'dask', 'ruby', 'julia', 'tensor','bigquery', 'unix', 'react',\n",
    " 'scikit', 'powerbi', 's3', 'ec2', 'lambda', 'ssrs', 'kubernetes', 'hana', 'spacy', 'django', 'sagemaker',\n",
    " 'seaborn', 'mllib', 'github', 'git', 'elasticsearch', 'splunk', 'airflow', 'looker', 'rapidminer', 'birt', 'pentaho', \n",
    " 'jquery', 'nodejs', 'plotly', 'bokeh', 'xgboost', 'rstudio', 'shiny', 'dash', 'hadoop', 'mapreduce', \n",
    " 'hive', 'cognos', 'angular', 'nltk', 'flask', 'node', 'firebase', 'bigtable','dplyr','ggplot2','esquisse','bioconductor','shiny','lubridate','knitr','mlr','quanteda','dt','rcrawler','caret','rmarkdown',\n",
    " 'leaflet','janitor','ggvis','plotly','rcharts','rbokeh','broom','stringr','magrittr','slidify','rvest',\n",
    " 'rmysql','rsqlite','prophet','glmnet','text2vec','snowballc','quantmod','rstan','swirl','datasciencer','python', 'pytorch', 'sql', 'mxnet', 'mlflow', 'einstein', 'theano', 'pyspark', 'solr', 'mahout', \n",
    " 'cassandra', 'aws', 'powerpoint', 'spark', 'pig', 'sas', 'java', 'nosql', 'docker', 'salesforce', 'scala', 'r',\n",
    " 'c', 'c++', 'net', 'tableau', 'pandas', 'scikitlearn', 'sklearn', 'matlab', 'scala', 'keras', 'tensorflow', 'clojure',\n",
    " 'caffe', 'scipy', 'numpy', 'matplotlib', 'vba', 'spss', 'linux', 'azure', 'cloud', 'gcp', 'mongodb', 'mysql', 'oracle', \n",
    " 'redshift', 'snowflake', 'kafka', 'javascript', 'qlik', 'jupyter', 'perl'])\n",
    "\n",
    "# Skills = set(['optimizing', 'prediction', 'forecasting',\n",
    "#  'clustering', 'cluster', 'optimization', 'visualization', 'nlp', 'c#','regression', 'logistic', 'nn', 'cnn', 'glm','rnn', 'lstm', 'gbm', 'boosting', 'recurrent', 'convolutional', 'bayesian',\n",
    "#  'bayes','random forest', 'natural language processing', 'machine learning', 'statistics', 'cleansing', 'chatbot', 'cleaning', 'blockchain', 'causality', 'correlation', 'bandit', 'anomaly', 'kpi',\n",
    "#  'dashboard', 'geospatial', 'ocr', 'econometrics', 'pca', 'gis', 'svm', 'svd', 'tuning', 'hyperparameter', 'hypothesis',\n",
    "#  'salesforcecom', 'segmentation', 'biostatistics', 'unsupervised', 'supervised', 'exploratory',\n",
    "#  'recommender', 'recommendations', 'research', 'sequencing', 'probability', 'reinforcement', 'graph', 'bioinformatics',\n",
    "#  'chi', 'knn', 'outlier', 'etl', 'normalization', 'classification','decision tree', 'deep learning', 'experimental design',\n",
    "#  'time series', 'nearest neighbors', 'neural network', 'support vector machine', 'computer vision', 'machine vision', 'dimensionality reduction', \n",
    "#  'text analytics', 'power bi', 'a/b testing', 'ab testing', 'chat bot', 'data mining','vision'])\n",
    "\n",
    "Skills = set(['nlp', 'cnn', 'rnn', 'lstm'])\n",
    "\n",
    "degree  = set(['bachelor', 'master', 'doctor','ms','ph.d','phd'])\n",
    "\n",
    "\n",
    "\n",
    "df_temp=new_df.copy(deep=True)\n",
    "\n",
    "def add_feature_set(set_customer, df):\n",
    "        result = set([ps.stem(x) for x in set_customer])\n",
    "        list_result = []\n",
    "\n",
    "        num_postings = len(df['Content_text'].index)\n",
    "\n",
    "        # range of dataframe length\n",
    "        for i in range(num_postings):\n",
    "                desc_token = df.iloc[i,11]\n",
    "                result_words = result.intersection(desc_token)\n",
    "                list_result.append(result_words)\n",
    "\n",
    "\n",
    "        for i in range(len(list_result)):\n",
    "\n",
    "            if(list_result[i]==set()):\n",
    "                continue\n",
    "            else:\n",
    "                for j in list_result[i]: \n",
    "                    if (j not in df.columns):\n",
    "                        df[j] = 0 \n",
    "                    df.loc[i,[j]] = 1\n",
    "\n",
    "        return df\n",
    "\n",
    "df_add_degree = add_feature_set(degree, df_temp)"
   ]
  },
  {
   "cell_type": "code",
   "execution_count": null,
   "metadata": {
    "cell_id": "00005-aedd5b0b-13c5-4598-9e31-2044ed5b3da9",
    "deepnote_cell_type": "code",
    "deepnote_to_be_reexecuted": false,
    "execution_millis": 20543,
    "execution_start": 1638709313028,
    "source_hash": "8faf96fa",
    "tags": []
   },
   "outputs": [
    {
     "name": "stderr",
     "output_type": "stream",
     "text": [
      "/shared-libs/python3.7/py-core/lib/python3.7/site-packages/ipykernel/ipkernel.py:283: DeprecationWarning: `should_run_async` will not call `transform_cell` automatically in the future. Please pass the result to `transformed_cell` argument and any exception that happen during thetransform in `preprocessing_exc_tuple` in IPython 7.17 and above.\n",
      "  and should_run_async(code)\n",
      "(0, '0.006*\"business\" + 0.006*\"research\" + 0.005*\"analysis\" + 0.004*\"analytics\" + 0.004*\"opportunity\" + 0.004*\"information\" + 0.004*\"development\" + 0.004*\"working\" + 0.004*\"health\" + 0.004*\"medical\" + 0.004*\"learning\" + 0.004*\"ability\" + 0.004*\"world\" + 0.003*\"support\" + 0.003*\"status\" + 0.003*\"design\" + 0.003*\"management\" + 0.003*\"knowledge\" + 0.003*\"solutions\" + 0.003*\"machine\"')\n",
      "\n",
      "\n",
      "(1, '0.011*\"business\" + 0.008*\"product\" + 0.006*\"technical\" + 0.005*\"customer\" + 0.005*\"solutions\" + 0.005*\"engineering\" + 0.005*\"customers\" + 0.005*\"development\" + 0.005*\"ability\" + 0.004*\"status\" + 0.004*\"management\" + 0.004*\"design\" + 0.004*\"amazon\" + 0.004*\"products\" + 0.004*\"analytics\" + 0.004*\"software\" + 0.004*\"across\" + 0.004*\"opportunity\" + 0.004*\"building\" + 0.003*\"learning\"')\n",
      "\n",
      "\n",
      "(2, '0.007*\"software\" + 0.006*\"systems\" + 0.005*\"technical\" + 0.005*\"development\" + 0.005*\"design\" + 0.005*\"working\" + 0.004*\"engineering\" + 0.004*\"business\" + 0.004*\"ability\" + 0.004*\"learning\" + 0.004*\"time\" + 0.004*\"environment\" + 0.004*\"services\" + 0.003*\"management\" + 0.003*\"machine\" + 0.003*\"support\" + 0.003*\"security\" + 0.003*\"computer\" + 0.003*\"build\" + 0.003*\"customer\"')\n",
      "\n",
      "\n",
      "(3, '0.011*\"learning\" + 0.007*\"machine\" + 0.006*\"business\" + 0.005*\"product\" + 0.004*\"research\" + 0.004*\"world\" + 0.004*\"marketing\" + 0.004*\"engineering\" + 0.004*\"models\" + 0.003*\"time\" + 0.003*\"help\" + 0.003*\"build\" + 0.003*\"across\" + 0.003*\"develop\" + 0.003*\"computer\" + 0.003*\"working\" + 0.003*\"people\" + 0.003*\"strong\" + 0.003*\"technical\" + 0.003*\"development\"')\n",
      "\n",
      "\n"
     ]
    }
   ],
   "source": [
    "# LDA\n",
    "new_df = data_remove_duplicatedContentUrl.copy(deep=True) \n",
    "df_temp2=new_df.copy(deep=True)\n",
    "\n",
    "# Preprocessing - Create Term Frequency Matrix\n",
    "from sklearn.feature_extraction.text import CountVectorizer\n",
    "from sklearn.model_selection import train_test_split\n",
    "\n",
    "# Let's remove domain specific stop words like 'work'\n",
    "from nltk.corpus import stopwords\n",
    "stop = list(stopwords.words('english')) + ['work','experience','data','company','new','years','skills','team','teams','science','technology','us','including']\n",
    "\n",
    "# LDA can only use raw term counts for LDA \n",
    "tf_vectorizer = CountVectorizer(min_df=5, stop_words=stop)\n",
    "tf = tf_vectorizer.fit_transform(df_temp2['Content_text'])\n",
    "\n",
    "# each feature is a word (bag of words)\n",
    "# get_feature_names() gives all words\n",
    "tf_feature_names = tf_vectorizer.get_feature_names()\n",
    "\n",
    "# print(tf_feature_names[0:10])\n",
    "# print(tf.shape)\n",
    "\n",
    "#### 使用gensim\n",
    "# Create LDA model using the same TF matrix generated from sklearn\n",
    "\n",
    "# convert the gensim corpus from the sparse tf matrix\n",
    "corpus = gensim.matutils.Sparse2Corpus(tf, documents_columns=False)\n",
    "\n",
    "# create the mapping between id and words\n",
    "id2word={idx:w for idx, w in enumerate(tf_vectorizer.get_feature_names())}\n",
    "\n",
    "# create a gensim dictionary from the corpus\n",
    "dictionary = corpora.Dictionary.from_corpus(corpus, id2word=id2word)\n",
    "\n",
    "# Train LDA model\n",
    "NUM_TOPICS = 4\n",
    "ldamodel = gensim.models.ldamodel.LdaModel(corpus, num_topics = NUM_TOPICS, \\\n",
    "                            id2word=id2word, \\\n",
    "                            iterations=30)\n",
    "topics = ldamodel.print_topics(num_words=20)\n",
    "for topic in topics:\n",
    "    print(topic)\n",
    "    print(\"\\n\")\n",
    "    "
   ]
  },
  {
   "cell_type": "code",
   "execution_count": null,
   "metadata": {
    "cell_id": "00007-6bdb3786-109a-44bf-b066-fc4c75830335",
    "deepnote_cell_type": "code",
    "deepnote_output_heights": [
     606.1875
    ],
    "deepnote_to_be_reexecuted": false,
    "execution_millis": 12971,
    "execution_start": 1638708607335,
    "source_hash": "4b41fbd4",
    "tags": []
   },
   "outputs": [
    {
     "data": {
      "text/html": [
       "\n",
       "<link rel=\"stylesheet\" type=\"text/css\" href=\"https://cdn.jsdelivr.net/gh/bmabey/pyLDAvis@3.3.1/pyLDAvis/js/ldavis.v1.0.0.css\">\n",
       "\n",
       "\n",
       "<div id=\"ldavis_el681403533967095844290407234\"></div>\n",
       "<script type=\"text/javascript\">\n",
       "\n",
       "var ldavis_el681403533967095844290407234_data = {\"mdsDat\": {\"x\": [0.03711449129741424, -0.013658520011894987, -0.00887583598961824, -0.01458013529590101], \"y\": [0.0026998427023927, 0.02355328940506333, -0.028272435089016296, 0.0020193029815602764], \"topics\": [1, 2, 3, 4], \"cluster\": [1, 1, 1, 1], \"Freq\": [28.2504984665609, 25.325011472445752, 24.993383500128107, 21.43110656086524]}, \"tinfo\": {\"Term\": [\"amazon\", \"machine\", \"product\", \"accenture\", \"employment\", \"security\", \"software\", \"learning\", \"microsoft\", \"research\", \"salesforce\", \"business\", \"facebook\", \"computer\", \"statistical\", \"models\", \"analytics\", \"customer\", \"ml\", \"systems\", \"hyperion\", \"metamorphoses\", \"widen\", \"obligated\", \"sealed\", \"holland\", \"expunged\", \"accenture\", \"observances\", \"9009\", \"113\", \"999\", \"889\", \"furtherance\", \"toll\", \"furnish\", \"observance\", \"allscripts\", \"399\", \"ellis\", \"inquired\", \"disclosed\", \"sap\", \"proceeding\", \"disclose\", \"seagen\", \"cricket\", \"colorado\", \"pwc\", \"hired\", \"employment\", \"salesforce\", \"religious\", \"kpmg\", \"pay\", \"disclosure\", \"uw\", \"client\", \"required\", \"compensation\", \"applicants\", \"equal\", \"employees\", \"business\", \"clients\", \"may\", \"opportunities\", \"marketing\", \"process\", \"information\", \"project\", \"including\", \"management\", \"status\", \"support\", \"development\", \"disability\", \"environment\", \"opportunity\", \"design\", \"services\", \"engineering\", \"technical\", \"working\", \"pine\", \"groupsability\", \"scot\", \"fba\", \"6pm\", \"abstractor\", \"unilever\", \"rn\", \"credentialing\", \"progyny\", \"40k\", \"liz\", \"abstracting\", \"enters\", \"jerry\", \"immunizations\", \"coder\", \"overreader\", \"shipments\", \"scanned\", \"convoy\", \"lpn\", \"hedis\", \"chart\", \"csi\", \"reviewer\", \"winner\", \"getty\", \"abstraction\", \"legacy\", \"amazon\", \"patient\", \"charts\", \"product\", \"images\", \"record\", \"wayfair\", \"analytics\", \"business\", \"customer\", \"management\", \"customers\", \"best\", \"teams\", \"learning\", \"strategy\", \"ability\", \"medical\", \"working\", \"analysis\", \"looking\", \"role\", \"technical\", \"help\", \"build\", \"engineering\", \"across\", \"strong\", \"machine\", \"development\", \"including\", \"nintendo\", \"perceptual\", \"exabeam\", \"attacker\", \"adversary\", \"kill\", \"pok\\u00e9mon\", \"tpu\", \"defender\", \"jakarta\", \"fpgas\", \"niantic\", \"usrc\", \"verilog\", \"imu\", \"tiktok\", \"kramer\", \"shlomo\", \"3ds\", \"rdma\", \"disadvantaged\", \"attackers\", \"holographic\", \"oci\", \"geometry\", \"foursquare\", \"closer\", \"facebook\", \"expedia\", \"ar\", \"compiler\", \"ext\", \"security\", \"fb\", \"microsoft\", \"hardware\", \"connects\", \"speech\", \"threat\", \"software\", \"computer\", \"devices\", \"design\", \"systems\", \"apple\", \"technical\", \"learning\", \"machine\", \"cloud\", \"related\", \"problems\", \"engineering\", \"solutions\", \"qualifications\", \"teams\", \"products\", \"ai\", \"product\", \"world\", \"development\", \"research\", \"build\", \"business\", \"ability\", \"including\", \"swedish\", \"novo\", \"multiplexed\", \"bioscience\", \"immunotherapy\", \"microscopy\", \"nih\", \"carnegie\", \"biologist\", \"proteomics\", \"verge\", \"metabolomics\", \"receptor\", \"gene\", \"toyota\", \"ngs\", \"autoimmune\", \"omics\", \"phenotypic\", \"vitro\", \"ontologist\", \"diabetes\", \"aurora\", \"microbial\", \"blackwatch\", \"ontology\", \"molecular\", \"semantically\", \"immune\", \"genomics\", \"taxonomies\", \"biological\", \"biology\", \"taxonomy\", \"ontologies\", \"diseases\", \"protein\", \"scientific\", \"cancer\", \"computational\", \"statistical\", \"corporation\", \"scientist\", \"machine\", \"research\", \"models\", \"clinical\", \"scientists\", \"learning\", \"status\", \"development\", \"customer\", \"modeling\", \"opportunity\", \"using\", \"product\", \"building\", \"ability\", \"including\", \"solutions\", \"business\", \"software\", \"working\", \"analysis\", \"develop\", \"engineering\", \"systems\", \"design\", \"technical\", \"build\"], \"Freq\": [5734.0, 9543.0, 12826.0, 1558.0, 6665.0, 3462.0, 10430.0, 13642.0, 2849.0, 7308.0, 2536.0, 20219.0, 1114.0, 6449.0, 2946.0, 4954.0, 8071.0, 8689.0, 3641.0, 8750.0, 30.55102056189126, 49.92081534307051, 45.40676961440742, 111.97841951051096, 110.20033160605567, 102.32426242369202, 110.126866902124, 1456.1380336667828, 110.47790071188702, 68.95900015568269, 24.08758125257427, 37.399941365035986, 68.43669120598703, 123.50908011105763, 115.08952091449565, 121.91623074816647, 125.35863398203412, 56.57234139476156, 14.16946590648448, 60.590147816814785, 122.77609868624954, 122.81683961713306, 598.0683818401094, 120.98991589528183, 309.83932094469566, 300.68183900028305, 298.84097963704215, 728.8601171004574, 552.1370408162986, 540.5675491895051, 4070.3322640399983, 1552.741276688182, 662.5537801634251, 374.3229648207289, 1231.273057199215, 215.99064898963928, 433.2955344512462, 1582.0493407510066, 2807.9574314094116, 1017.7601097281807, 2361.7877183825876, 2950.588576679741, 2491.57346689605, 7315.712222905805, 1861.2240989687753, 1709.7985090923557, 1970.2105418249657, 2072.542343930334, 2109.863834852009, 2739.4895710039177, 1746.7049732948424, 3214.2991479690513, 2920.383479267095, 3000.370640782186, 2545.6349610434827, 3079.576784550037, 2396.912730139311, 2277.643360719256, 2461.7322285248842, 2581.9412710261836, 2283.5207146993384, 2417.070485504207, 2436.616716054272, 2312.987434096168, 66.4359711733038, 64.03554842000193, 50.19330946091198, 46.93855673298934, 47.08498315303305, 231.5331384305868, 74.28780674173265, 137.83754992694102, 47.87024584584054, 61.337250927978225, 45.89293671662962, 45.85038247151155, 136.62484850606506, 95.67205650216371, 12.352803051672177, 140.16490380625712, 141.2060344741845, 45.41680697335765, 95.6785566008917, 138.41103183799189, 452.6971362128519, 89.90088461898344, 177.856537548497, 208.24452896441798, 133.56300337890633, 140.1300043481556, 131.2844450339923, 365.39378262429443, 138.36284351036227, 225.30232097487502, 3227.0291797326267, 657.0797902876819, 155.53253078850872, 5149.891292071945, 483.46269079072107, 1191.580499770566, 323.0692806588116, 3167.516067536958, 6468.00890519955, 3163.6337666097133, 3146.7253076484403, 2659.2963422201083, 2091.4346574213187, 3174.666853023971, 3923.8859509033123, 1546.3854722538447, 2973.7026735359123, 1628.307978417601, 2878.3872166307333, 2146.0784889208667, 1584.7273348614888, 2385.9902247491877, 2964.30494427299, 2340.184934846187, 2377.285308459416, 2698.266355256742, 2262.76762421611, 2084.738102416932, 2226.808082632003, 2300.66815699649, 2161.6704439658038, 173.58230506912864, 63.35427589909734, 74.37969736604009, 37.47939959488627, 24.833183638865595, 19.652665510495023, 34.588090176464846, 27.350488875139586, 32.74051678631308, 59.11987287208297, 24.418741992118747, 49.130441319632375, 42.784856349456, 23.59264376299527, 17.6564067680456, 486.7173384996133, 12.999172517662972, 12.999172517662972, 18.053641923630376, 10.816115529239239, 71.22219571937255, 22.573211964891165, 18.966991995213082, 75.2574298044401, 31.54982563312568, 120.13416912367079, 295.208414019401, 874.5051824339038, 556.3294477375395, 246.1352654525275, 58.1527826011907, 138.05608290571269, 2176.894333554573, 132.3667612693073, 1768.6648441084942, 927.4582252962358, 228.4429254597899, 274.0019023991932, 245.02255610170639, 4432.627267267705, 2775.350851609465, 471.32672895464805, 3788.1348828032583, 3425.4426792132335, 500.0960607685136, 3817.3178777229487, 4480.903445350985, 3351.658730202056, 2208.645835669965, 2236.5300376786904, 1940.0181152954226, 3356.807061680423, 3015.4950359114414, 1696.2016934551575, 3129.3798251279964, 2430.7971091521445, 1867.1197283392341, 3376.5022509978303, 2379.343344539993, 3008.999971084273, 2328.5500576976433, 2297.35482184292, 2902.6240690688096, 2394.3670918491853, 2282.73534602919, 66.70479596954243, 99.98220848568788, 10.912421056057292, 17.263931587012905, 18.867006849642603, 22.06854541162819, 8.530800589064082, 10.06646800720041, 7.8446457498867135, 61.40578073493466, 11.523264009116899, 11.131941031253653, 10.84504216795434, 91.97015426024004, 9.672588443303193, 32.16534813343022, 12.702997896798893, 53.48343867179924, 12.229384016247385, 12.584473599540999, 115.68242654776547, 47.31477984913427, 75.05831658631207, 29.568039937892483, 181.1168266977078, 143.33508444333694, 144.0652824788195, 51.55862842875821, 82.84732026285188, 136.16318251202557, 128.40335845334963, 241.48000469222097, 321.22483409567036, 186.44409494568606, 105.18391340113762, 193.94489093007968, 85.10848793698538, 701.7942719846809, 295.30180984212785, 407.44029430249606, 1344.2800609039084, 231.05789429790988, 689.8194420171563, 3109.320237770992, 2500.4878479884487, 1689.4311371119773, 793.583173982341, 1007.7476194936777, 3252.122457241225, 2457.969707900488, 2676.4707298302033, 2242.971992239298, 979.9678820036794, 2203.014245687411, 1567.6970060759643, 2813.724374204733, 1773.85336491382, 2249.0149361032445, 2274.6173888967905, 2157.2134322844745, 3533.212344311168, 2290.433954788526, 2150.5558969311087, 1656.1262086542174, 1721.6664607320113, 2074.074164216794, 1903.3568219164047, 1949.7354321866967, 1845.6152775912994, 1756.9833676446065], \"Total\": [5734.0, 9543.0, 12826.0, 1558.0, 6665.0, 3462.0, 10430.0, 13642.0, 2849.0, 7308.0, 2536.0, 20219.0, 1114.0, 6449.0, 2946.0, 4954.0, 8071.0, 8689.0, 3641.0, 8750.0, 31.47427808704146, 52.03475728300423, 47.532748466916395, 118.1162841853906, 117.41226204257559, 109.04539377459803, 117.36680054725453, 1558.1461820717604, 118.43591796188151, 74.09215896457867, 25.89992956587596, 40.36241568647061, 73.95048641443277, 133.76525631704985, 124.96708049044463, 132.40953671547587, 136.37591371601403, 61.56848617871481, 15.480789124616363, 66.49353527072421, 135.0613196770762, 135.13012897891176, 677.903700580673, 133.1095954587155, 350.31648986447544, 352.5418537279254, 352.51227196657413, 910.5613697504014, 695.1053469775858, 680.0223408193233, 6665.4284853869085, 2536.34226799151, 944.9602833789107, 488.25473625490855, 1959.6845810946281, 260.4195727833774, 594.7002303748036, 2907.4061339124605, 5849.1489499465615, 1727.0998421540605, 4854.523618921591, 6379.684074042774, 5277.9535241880485, 20219.55754148533, 3685.6863567254545, 3425.4724596717815, 4289.002344918024, 4804.1383279038655, 4957.046503369524, 7391.284153255098, 3896.6399543528323, 9933.322326860834, 8998.908283094135, 9457.033369687153, 7510.769698154237, 11065.715642461004, 7013.003702660159, 7010.198797243132, 8549.126470531295, 9865.499308008979, 7424.268943526656, 10546.218066658166, 11063.854815641509, 9477.486234620439, 70.57560925958056, 69.21919649980912, 54.33554424287563, 51.2274103645279, 51.528514298959664, 253.89687494118078, 81.85216006283969, 152.7492485282305, 53.582325673437936, 68.7795207331551, 51.48639277195632, 51.44665432559439, 153.8855479303895, 107.84417255369563, 13.968326956098892, 158.69623261785395, 159.89333761254943, 51.4305073260523, 108.35065636019506, 156.75399973407787, 516.370841457567, 101.94558906720809, 204.49733330215983, 240.75141696839754, 155.87701869914633, 164.0597853897363, 153.6117349156301, 470.7008525795186, 166.11371433925012, 285.8791472846734, 5734.94646176222, 1026.3492936791813, 193.66213660934972, 12826.61988135349, 756.2820471238377, 2300.50336215482, 473.1174477268339, 8071.099349803379, 20219.55754148533, 8689.22417625543, 8998.908283094135, 7525.203304812613, 5630.272185333921, 10129.414393729967, 13642.809374845634, 3915.9131160427787, 9560.1603842287, 4250.929175117079, 9477.486234620439, 6343.664384892111, 4167.261388987265, 7640.57923960524, 11063.854815641509, 7737.159739436362, 8005.848092650647, 10546.218066658166, 7955.800512300991, 7272.402127251026, 9543.81385954906, 11065.715642461004, 9933.322326860834, 175.40845441458848, 64.52002000475564, 77.30067601480445, 39.00378389313076, 25.906653877689457, 20.624258134646574, 36.34161396051669, 28.775987442851676, 34.466185636263624, 62.43989339807936, 25.891552236716812, 52.285983852528155, 45.60213310767306, 25.186243179782362, 18.950660954083734, 525.2896948217458, 14.064772878984513, 14.064772878984513, 19.54243342767443, 11.725091866594049, 77.5062153264998, 24.49298244671412, 20.56365692792233, 83.41237505167419, 34.51686124268646, 137.61992327904238, 352.5282219128108, 1114.0840786057636, 704.0242013888922, 302.6950308410502, 65.33121840840761, 166.32198540524635, 3462.221573359555, 160.4406679439442, 2849.3867771860632, 1433.460431781296, 300.9990144819426, 378.37891969701855, 337.15054132617854, 10430.13899562212, 6449.781269053825, 768.4806978030201, 9865.499308008979, 8750.111918453546, 827.838954612718, 11063.854815641509, 13642.809374845634, 9543.81385954906, 5650.143763315024, 5936.500242886599, 5000.345119593851, 10546.218066658166, 9235.804696464895, 4229.768863053042, 10129.414393729967, 7138.782459578149, 4904.16773412921, 12826.61988135349, 7384.694541110941, 11065.715642461004, 7308.198910825557, 8005.848092650647, 20219.55754148533, 9560.1603842287, 9933.322326860834, 70.04412217527108, 105.88724459380406, 12.144242629858658, 19.657144023131103, 21.610349028823432, 25.317813030709218, 9.803735483569996, 11.637295353193295, 9.108334754795804, 71.95993594749395, 13.503852030580225, 13.119911642047999, 12.876484534443584, 109.39943133674365, 11.509797809401293, 38.30372706449535, 15.167649217007456, 63.89085821664326, 14.631143496809576, 15.100933345683025, 140.7582698816147, 57.05365805547623, 91.03410012999103, 35.55914027523912, 224.16709388280805, 177.24534754342315, 178.5061477259984, 63.35143235266829, 104.4994463033684, 175.83748732298403, 165.66719213875572, 323.98724589420493, 447.4163827683737, 252.13030768749474, 136.51104907288376, 264.0274493460724, 109.16679638278339, 1137.5214755473964, 459.990459365922, 674.7556090344967, 2946.6070135675136, 358.48973799425806, 1418.249294359212, 9543.81385954906, 7308.198910825557, 4954.942595846286, 1838.5520301692432, 2537.307765163772, 13642.809374845634, 9457.033369687153, 11065.715642461004, 8689.22417625543, 2687.0746343701016, 8549.126470531295, 5447.666186486005, 12826.61988135349, 6553.5537278715, 9560.1603842287, 9933.322326860834, 9235.804696464895, 20219.55754148533, 10430.13899562212, 9477.486234620439, 6343.664384892111, 6868.060104653225, 10546.218066658166, 8750.111918453546, 9865.499308008979, 11063.854815641509, 8005.848092650647], \"Category\": [\"Default\", \"Default\", \"Default\", \"Default\", \"Default\", \"Default\", \"Default\", \"Default\", \"Default\", \"Default\", \"Default\", \"Default\", \"Default\", \"Default\", \"Default\", \"Default\", \"Default\", \"Default\", \"Default\", \"Default\", \"Topic1\", \"Topic1\", \"Topic1\", \"Topic1\", \"Topic1\", \"Topic1\", \"Topic1\", \"Topic1\", \"Topic1\", \"Topic1\", \"Topic1\", \"Topic1\", \"Topic1\", \"Topic1\", \"Topic1\", \"Topic1\", \"Topic1\", \"Topic1\", \"Topic1\", \"Topic1\", \"Topic1\", \"Topic1\", \"Topic1\", \"Topic1\", \"Topic1\", \"Topic1\", \"Topic1\", \"Topic1\", \"Topic1\", \"Topic1\", \"Topic1\", \"Topic1\", \"Topic1\", \"Topic1\", \"Topic1\", \"Topic1\", \"Topic1\", \"Topic1\", \"Topic1\", \"Topic1\", \"Topic1\", \"Topic1\", \"Topic1\", \"Topic1\", \"Topic1\", \"Topic1\", \"Topic1\", \"Topic1\", \"Topic1\", \"Topic1\", \"Topic1\", \"Topic1\", \"Topic1\", \"Topic1\", \"Topic1\", \"Topic1\", \"Topic1\", \"Topic1\", \"Topic1\", \"Topic1\", \"Topic1\", \"Topic1\", \"Topic1\", \"Topic1\", \"Topic2\", \"Topic2\", \"Topic2\", \"Topic2\", \"Topic2\", \"Topic2\", \"Topic2\", \"Topic2\", \"Topic2\", \"Topic2\", \"Topic2\", \"Topic2\", \"Topic2\", \"Topic2\", \"Topic2\", \"Topic2\", \"Topic2\", \"Topic2\", \"Topic2\", \"Topic2\", \"Topic2\", \"Topic2\", \"Topic2\", \"Topic2\", \"Topic2\", \"Topic2\", \"Topic2\", \"Topic2\", \"Topic2\", \"Topic2\", \"Topic2\", \"Topic2\", \"Topic2\", \"Topic2\", \"Topic2\", \"Topic2\", \"Topic2\", \"Topic2\", \"Topic2\", \"Topic2\", \"Topic2\", \"Topic2\", \"Topic2\", \"Topic2\", \"Topic2\", \"Topic2\", \"Topic2\", \"Topic2\", \"Topic2\", \"Topic2\", \"Topic2\", \"Topic2\", \"Topic2\", \"Topic2\", \"Topic2\", \"Topic2\", \"Topic2\", \"Topic2\", \"Topic2\", \"Topic2\", \"Topic2\", \"Topic3\", \"Topic3\", \"Topic3\", \"Topic3\", \"Topic3\", \"Topic3\", \"Topic3\", \"Topic3\", \"Topic3\", \"Topic3\", \"Topic3\", \"Topic3\", \"Topic3\", \"Topic3\", \"Topic3\", \"Topic3\", \"Topic3\", \"Topic3\", \"Topic3\", \"Topic3\", \"Topic3\", \"Topic3\", \"Topic3\", \"Topic3\", \"Topic3\", \"Topic3\", \"Topic3\", \"Topic3\", \"Topic3\", \"Topic3\", \"Topic3\", \"Topic3\", \"Topic3\", \"Topic3\", \"Topic3\", \"Topic3\", \"Topic3\", \"Topic3\", \"Topic3\", \"Topic3\", \"Topic3\", \"Topic3\", \"Topic3\", \"Topic3\", \"Topic3\", \"Topic3\", \"Topic3\", \"Topic3\", \"Topic3\", \"Topic3\", \"Topic3\", \"Topic3\", \"Topic3\", \"Topic3\", \"Topic3\", \"Topic3\", \"Topic3\", \"Topic3\", \"Topic3\", \"Topic3\", \"Topic3\", \"Topic3\", \"Topic3\", \"Topic3\", \"Topic3\", \"Topic4\", \"Topic4\", \"Topic4\", \"Topic4\", \"Topic4\", \"Topic4\", \"Topic4\", \"Topic4\", \"Topic4\", \"Topic4\", \"Topic4\", \"Topic4\", \"Topic4\", \"Topic4\", \"Topic4\", \"Topic4\", \"Topic4\", \"Topic4\", \"Topic4\", \"Topic4\", \"Topic4\", \"Topic4\", \"Topic4\", \"Topic4\", \"Topic4\", \"Topic4\", \"Topic4\", \"Topic4\", \"Topic4\", \"Topic4\", \"Topic4\", \"Topic4\", \"Topic4\", \"Topic4\", \"Topic4\", \"Topic4\", \"Topic4\", \"Topic4\", \"Topic4\", \"Topic4\", \"Topic4\", \"Topic4\", \"Topic4\", \"Topic4\", \"Topic4\", \"Topic4\", \"Topic4\", \"Topic4\", \"Topic4\", \"Topic4\", \"Topic4\", \"Topic4\", \"Topic4\", \"Topic4\", \"Topic4\", \"Topic4\", \"Topic4\", \"Topic4\", \"Topic4\", \"Topic4\", \"Topic4\", \"Topic4\", \"Topic4\", \"Topic4\", \"Topic4\", \"Topic4\", \"Topic4\", \"Topic4\", \"Topic4\", \"Topic4\"], \"logprob\": [20.0, 19.0, 18.0, 17.0, 16.0, 15.0, 14.0, 13.0, 12.0, 11.0, 10.0, 9.0, 8.0, 7.0, 6.0, 5.0, 4.0, 3.0, 2.0, 1.0, -10.1257, -9.6347, -9.7294, -8.8268, -8.8428, -8.917, -8.8435, -6.2616, -8.8403, -9.3116, -10.3634, -9.9234, -9.3192, -8.7288, -8.7994, -8.7418, -8.7139, -9.5096, -10.894, -9.441, -8.7347, -8.7344, -7.1514, -8.7494, -7.809, -7.839, -7.8452, -6.9536, -7.2313, -7.2525, -5.2336, -6.1973, -7.049, -7.62, -6.4293, -8.1699, -7.4737, -6.1786, -5.6049, -6.6197, -5.7779, -5.5553, -5.7244, -4.6473, -6.0161, -6.101, -5.9592, -5.9086, -5.8907, -5.6296, -6.0796, -5.4697, -5.5656, -5.5386, -5.703, -5.5126, -5.7632, -5.8142, -5.7365, -5.6888, -5.8116, -5.7548, -5.7467, -5.7988, -9.2395, -9.2763, -9.5199, -9.5869, -9.5838, -7.9911, -9.1278, -8.5097, -9.5673, -9.3194, -9.6095, -9.6104, -8.5185, -8.8749, -10.9219, -8.493, -8.4856, -9.6199, -8.8748, -8.5056, -7.3206, -8.9371, -8.2548, -8.0971, -8.5412, -8.4932, -8.5584, -7.5348, -8.5059, -8.0183, -5.3565, -6.948, -8.3889, -4.8891, -7.2548, -6.3527, -7.6579, -5.3751, -4.6612, -5.3763, -5.3817, -5.55, -5.7902, -5.3728, -5.1609, -6.0921, -5.4382, -6.0405, -5.4708, -5.7644, -6.0676, -5.6584, -5.4414, -5.6778, -5.6621, -5.5354, -5.7114, -5.7934, -5.7275, -5.6948, -5.7571, -8.266, -9.2739, -9.1134, -9.7988, -10.2104, -10.4444, -9.8791, -10.1139, -9.934, -9.343, -10.2273, -9.5281, -9.6664, -10.2617, -10.5515, -7.2349, -10.8577, -10.8577, -10.5293, -11.0416, -9.1568, -10.3058, -10.4799, -9.1017, -9.971, -8.634, -7.7349, -6.6489, -7.1012, -7.9167, -9.3595, -8.4949, -5.7369, -8.537, -5.9446, -6.5902, -7.9913, -7.8095, -7.9213, -5.0259, -5.4941, -7.2671, -5.183, -5.2836, -7.2078, -5.1753, -5.015, -5.3054, -5.7225, -5.7099, -5.8521, -5.3039, -5.4111, -5.9865, -5.374, -5.6266, -5.8904, -5.298, -5.648, -5.4132, -5.6696, -5.6831, -5.4492, -5.6417, -5.6895, -9.0686, -8.6638, -10.8789, -10.4202, -10.3314, -10.1747, -11.1252, -10.9596, -11.209, -9.1513, -10.8245, -10.859, -10.8851, -8.7474, -10.9995, -9.7979, -10.727, -9.2895, -10.765, -10.7364, -8.518, -9.412, -8.9506, -9.8821, -8.0697, -8.3036, -8.2986, -9.3261, -8.8518, -8.355, -8.4137, -7.782, -7.4967, -8.0407, -8.6131, -8.0013, -8.8249, -6.7152, -7.5808, -7.2589, -6.0652, -7.8262, -6.7324, -5.2267, -5.4446, -5.8367, -6.5923, -6.3534, -5.1818, -5.4617, -5.3766, -5.5533, -6.3813, -5.5713, -5.9115, -5.3266, -5.7879, -5.5506, -5.5393, -5.5923, -5.0989, -5.5323, -5.5954, -5.8566, -5.8178, -5.6316, -5.7175, -5.6934, -5.7483, -5.7975], \"loglift\": [20.0, 19.0, 18.0, 17.0, 16.0, 15.0, 14.0, 13.0, 12.0, 11.0, 10.0, 9.0, 8.0, 7.0, 6.0, 5.0, 4.0, 3.0, 2.0, 1.0, 1.2343, 1.2226, 1.2183, 1.2107, 1.2007, 1.2004, 1.2004, 1.1964, 1.1945, 1.1923, 1.1915, 1.1878, 1.1866, 1.1843, 1.1817, 1.1815, 1.1798, 1.1794, 1.1755, 1.1711, 1.1687, 1.1685, 1.1388, 1.1686, 1.1413, 1.1049, 1.0989, 1.0415, 1.0338, 1.0346, 0.7708, 0.7734, 0.909, 0.9983, 0.7993, 1.077, 0.9474, 0.6555, 0.5302, 0.7352, 0.5436, 0.4929, 0.5134, 0.2474, 0.5808, 0.5692, 0.4861, 0.4234, 0.4099, 0.2715, 0.4617, 0.1358, 0.1387, 0.116, 0.1821, -0.015, 0.1905, 0.1398, 0.0191, -0.0764, 0.085, -0.2092, -0.249, -0.1463, 1.3129, 1.2955, 1.2941, 1.2859, 1.2832, 1.2812, 1.2764, 1.2707, 1.2607, 1.2589, 1.2584, 1.2582, 1.2544, 1.2536, 1.2505, 1.2492, 1.2491, 1.249, 1.249, 1.2489, 1.2418, 1.2476, 1.2338, 1.2283, 1.2189, 1.2157, 1.2163, 1.1201, 1.1906, 1.1353, 0.7984, 0.9274, 1.1541, 0.4608, 0.9259, 0.7155, 0.9919, 0.438, 0.2336, 0.363, 0.3226, 0.3332, 0.3831, 0.2131, 0.1272, 0.4442, 0.2056, 0.4138, 0.1817, 0.2896, 0.4065, 0.2095, 0.0563, 0.1776, 0.1592, 0.0102, 0.1161, 0.1239, -0.0819, -0.1973, -0.1516, 1.3761, 1.3683, 1.348, 1.3467, 1.3442, 1.3383, 1.3371, 1.3358, 1.3352, 1.3319, 1.328, 1.3243, 1.3228, 1.3212, 1.3158, 1.3103, 1.3078, 1.3078, 1.3073, 1.3059, 1.302, 1.3049, 1.3057, 1.2837, 1.2967, 1.2507, 1.2091, 1.1444, 1.1511, 1.1797, 1.2702, 1.2003, 0.9225, 1.1942, 0.9097, 0.9512, 1.1107, 1.0638, 1.0674, 0.5309, 0.5433, 0.8977, 0.4294, 0.4487, 0.8825, 0.3224, 0.2732, 0.3401, 0.4473, 0.4104, 0.4397, 0.2418, 0.2672, 0.4728, 0.212, 0.3092, 0.4209, 0.0519, 0.254, 0.0843, 0.2428, 0.1381, -0.5545, 0.0021, -0.084, 1.4915, 1.4829, 1.4334, 1.4105, 1.4046, 1.403, 1.4012, 1.3953, 1.391, 1.3817, 1.3817, 1.376, 1.3686, 1.3668, 1.3664, 1.3657, 1.363, 1.3625, 1.361, 1.358, 1.3441, 1.3532, 1.3474, 1.3558, 1.3271, 1.328, 1.326, 1.3343, 1.3081, 1.2846, 1.2855, 1.2464, 1.209, 1.2385, 1.2796, 1.2318, 1.2914, 1.0574, 1.0971, 1.0359, 0.7555, 1.1011, 0.8196, 0.4188, 0.4678, 0.4643, 0.7002, 0.6169, 0.1064, 0.1929, 0.121, 0.186, 0.5316, 0.1843, 0.2947, 0.0233, 0.2335, 0.0932, 0.0662, 0.0861, -0.2041, 0.0244, 0.0571, 0.1974, 0.1567, -0.0859, 0.0149, -0.081, -0.2505, 0.0238]}, \"token.table\": {\"Topic\": [1, 3, 4, 1, 3, 3, 4, 1, 2, 3, 4, 1, 2, 3, 4, 1, 2, 3, 4, 1, 2, 3, 4, 1, 2, 3, 4, 1, 2, 3, 4, 1, 2, 3, 4, 1, 2, 3, 4, 1, 2, 3, 4, 1, 2, 3, 4, 1, 2, 3, 4, 3, 1, 2, 3, 4, 1, 2, 3, 4, 1, 2, 3, 4, 1, 2, 3, 4, 1, 2, 3, 4, 1, 2, 3, 4, 1, 2, 3, 4, 1, 2, 3, 4, 2, 3, 1, 2, 3, 1, 2, 3, 4, 1, 2, 4, 1, 2, 3, 4, 1, 2, 3, 4, 1, 4, 1, 2, 3, 4, 1, 3, 4, 1, 2, 3, 4, 1, 2, 3, 4, 1, 2, 3, 4, 1, 2, 3, 4, 1, 2, 3, 4, 1, 4, 1, 2, 3, 4, 1, 2, 3, 4, 1, 2, 3, 4, 1, 2, 3, 4, 1, 2, 3, 4, 1, 2, 3, 4, 1, 2, 3, 4, 1, 2, 3, 4, 1, 2, 3, 4, 1, 2, 3, 4, 1, 2, 3, 4, 1, 2, 3, 4, 1, 2, 3, 4, 1, 2, 3, 4, 1, 2, 3, 4, 1, 2, 3, 4, 1, 2, 3, 4, 1, 2, 3, 4, 1, 2, 3, 4, 1, 2, 3, 4, 1, 2, 3, 4, 1, 2, 3, 4, 1, 2, 3, 4, 1, 2, 3, 4, 1, 2, 3, 4, 1, 2, 3, 4, 1, 2, 3, 4, 1, 2, 3, 4, 1, 2, 3, 4, 1, 2, 3, 4, 1, 2, 3, 4, 1, 2, 3, 4, 1, 2, 3, 4, 1, 2, 3, 4, 1, 2, 3, 4, 1, 2, 3, 4, 1, 2, 3, 4, 1, 2, 3, 4, 1, 2, 3, 4, 1, 2, 3, 4, 1, 2, 3, 4, 1, 2, 3, 4, 1, 2, 3, 4, 1, 2, 3, 4, 1, 2, 3, 4, 1, 2, 3, 4, 1, 2, 3, 4, 1, 2, 3, 4, 1, 3, 4, 1, 2, 3, 4, 1, 2, 3, 4, 1, 2, 3, 4, 1, 2, 3, 4, 1, 2, 3, 4, 1, 2, 3, 4, 1, 2, 3, 4, 1, 2, 3, 4, 1, 2, 3, 4, 1, 2, 3, 4, 1, 2, 3, 4, 1, 2, 3, 4, 1, 3, 1, 1, 2, 3, 4, 1, 2, 3, 4, 1, 2, 3, 4, 1, 3, 4, 1, 3, 1, 2, 3, 4, 1, 2, 3, 4, 1, 2, 3, 4, 1, 2, 3, 4, 1, 2, 4, 3, 1, 2, 3, 4, 3, 1, 2, 3, 4, 1, 2, 3, 4, 1, 2, 3, 4, 1, 2, 3, 4, 1, 2, 3, 4, 1, 2, 3, 4, 1, 2, 3, 4, 1, 2, 3, 4, 1, 2, 3, 4, 1, 2, 3, 4, 1, 3, 4, 1, 2, 3, 4, 1, 2, 3, 4, 1, 3, 4, 1, 2, 3, 4, 1, 2, 3, 4, 1, 2, 3, 4, 1, 2, 3, 4, 1, 2, 3, 4, 4, 1, 2, 3, 4, 1, 2, 3, 4, 1, 4, 1, 3, 4, 1, 3, 4, 1, 2, 3, 4, 1, 2, 3, 4, 1, 2, 3, 4, 1, 2, 3, 4, 1, 2, 3, 4, 1, 2, 3, 4, 1, 2, 3, 4, 1, 2, 3, 4, 1, 2, 3, 4, 1, 2, 3, 4, 1, 2, 3, 4, 1, 2, 3, 4, 1, 2, 3, 4, 3, 1, 3, 4, 1, 2, 3, 4, 3, 4, 1, 2, 3, 4, 1, 2, 3, 4, 1, 2, 3, 4, 1, 2, 3, 4, 1, 2, 3, 4, 1, 2, 3, 4, 1, 2, 3, 4, 1, 2, 3, 4, 1, 2, 3, 4, 1, 2, 3, 4, 1, 2, 3, 4, 3, 1, 3, 4, 1, 2, 3, 4, 1, 2, 3, 4, 1, 2, 3, 4, 1, 2, 3, 4, 1, 2, 3, 4, 1, 2, 3, 4, 1, 2, 3, 4, 1, 2, 3, 4, 1, 2, 3, 4, 1, 2, 3, 4, 1, 2, 3, 4, 1, 2, 3, 4, 1, 2, 3, 4, 1, 2, 3, 4, 2, 3, 4, 1, 2, 3, 4, 1, 2, 3, 4, 1, 2, 3, 4, 1, 2, 3, 4, 1, 2, 3, 4, 1, 2, 3, 4, 3, 1, 2, 3, 4, 1, 2, 3, 4, 1, 2, 3, 4, 1, 2, 3, 4, 1, 2, 3, 4, 1, 2, 3, 4, 1, 2, 3, 4, 1, 2, 3, 4, 1, 2, 3, 4, 1, 2, 3, 4, 1, 2, 3, 4, 1, 2, 3, 4, 1, 2, 3, 4, 1, 2, 3, 4, 1, 2, 3, 4, 1, 2, 3, 4, 1, 2, 3, 4, 1, 2, 3, 4, 2, 3, 4, 1, 2, 3, 4, 1, 2, 3, 4, 1, 2, 3, 4, 1, 2, 3, 4, 1, 2, 3, 4, 1, 3, 1, 3, 4, 1, 2, 3, 4, 1, 2, 3, 4, 1, 2, 3, 4, 1, 2, 3, 4, 1, 2, 3, 4], \"Freq\": [0.9266434466146509, 0.03861014360894379, 0.03861014360894379, 0.9043466639396486, 0.06459619028140347, 0.9210726016602335, 0.05117070009223519, 0.019422607531065596, 0.8934399464290174, 0.019422607531065596, 0.07769043012426238, 0.01940673069279992, 0.9121163425615962, 0.01940673069279992, 0.058220192078399756, 0.919534181545675, 0.0270451229866375, 0.0270451229866375, 0.01352256149331875, 0.9312726334913106, 0.0269934096664148, 0.0269934096664148, 0.0269934096664148, 0.9166943893400888, 0.02477552403621862, 0.02477552403621862, 0.02477552403621862, 0.20323926816179227, 0.3110826472018375, 0.25041420894458605, 0.23524709938027322, 0.006498336026020796, 0.890272035564849, 0.012996672052041592, 0.09097670436429114, 0.01203994509397007, 0.8307562114839347, 0.036119835281910206, 0.12039945093970068, 0.007877213929723757, 0.9137568158479559, 0.007877213929723757, 0.07089492536751381, 0.9344437747580631, 0.014119342750465239, 0.021820802432537187, 0.029522262114609135, 0.2324090450912059, 0.2844465489677658, 0.2789159930002087, 0.204253487438188, 0.9650030497195835, 0.22878499693062063, 0.21858958708522755, 0.3806966036269775, 0.17189460999332726, 0.9257983026340153, 0.016242075484807286, 0.03248415096961457, 0.03248415096961457, 0.03592012608548412, 0.5626905188245499, 0.16809224051653737, 0.23313208046743825, 0.25300834070327266, 0.33829027984375276, 0.14770642694016606, 0.26104785807141406, 0.2682410296501606, 0.3925115851878562, 0.12352716238393077, 0.2158318123097366, 0.03744689692031043, 0.15099555209802595, 0.6039822083921038, 0.2065619152700995, 0.4865564956350355, 0.1219481140626338, 0.23318456945760382, 0.15820295878395735, 0.0825913789550377, 0.03964386189841809, 0.812699168917571, 0.06607310316403016, 0.025638538115685675, 0.94862591028037, 0.04082802093112005, 0.04082802093112005, 0.9390444814157611, 0.06590936793391018, 0.05492447327825849, 0.05492447327825849, 0.8238670991738773, 0.06592979476863836, 0.06592979476863836, 0.8570873319922988, 0.2536289459894572, 0.37138524234170517, 0.19768138437413574, 0.17725608410187554, 0.12963473263918146, 0.02160578877319691, 0.10494240261267071, 0.7438564420486365, 0.10978955285690074, 0.878316422855206, 0.14080843354503392, 0.042466035513581656, 0.09834239803145226, 0.7174524947294585, 0.05087209000571357, 0.05087209000571357, 0.8648255300971307, 0.0624534125749921, 0.0624534125749921, 0.06691437061606297, 0.8074334054338265, 0.19660627853342968, 0.296907956844957, 0.28691526162089453, 0.21946456885847265, 0.1863111299152442, 0.23437665483195338, 0.3086874822428657, 0.270692829213467, 0.36182789781573854, 0.3198883055046743, 0.14357386377242878, 0.17473181560729967, 0.2608749758971416, 0.034783330119618885, 0.060870827709333046, 0.6413176490804732, 0.08593061958555501, 0.85930619585555, 0.020768309748541706, 0.8639616855393351, 0.016614647798833367, 0.0996878867930002, 0.0413090557610515, 0.8055265873405042, 0.030981791820788623, 0.12392716728315449, 0.544127626872384, 0.23216570678815376, 0.10421660615823791, 0.11935037074887311, 0.5049263067662122, 0.29492471545130183, 0.09631855932402221, 0.1036441962303563, 0.12129110100815167, 0.37475142867541034, 0.0723395355788528, 0.4318615883429257, 0.048223089509708904, 0.06524300345431205, 0.8368124356096546, 0.048223089509708904, 0.25999338451135545, 0.20406560404465135, 0.3909635033257891, 0.1451290505781562, 0.012508338557835117, 0.8818378683273758, 0.006254169278917559, 0.09381253918376338, 0.8006050160021942, 0.059304075259421794, 0.07687565311406529, 0.06369696972308267, 0.5894274176589221, 0.19396678282489088, 0.09495687278591673, 0.12159111759172266, 0.04591985383229779, 0.015306617944099264, 0.8877838407577573, 0.04591985383229779, 0.09484915596563498, 0.050388614106743584, 0.2504610524717549, 0.60318135121896, 0.1609356901729899, 0.19427015393714483, 0.4302471485838603, 0.21442587621314552, 0.07641221031765141, 0.09302356038670606, 0.7574775631488923, 0.06976767029002955, 0.001936592696011429, 0.8772764912931774, 0.05228800279230859, 0.06778074436040002, 0.13947400636835203, 0.05857908267470785, 0.15621088713255427, 0.6443699094217864, 0.037325740808436925, 0.8958177794024863, 0.018662870404218462, 0.055988611212655394, 0.8481974211336158, 0.11347122690750713, 0.028367806726876783, 0.011347122690750713, 0.012830627739039206, 0.8596520585156269, 0.012830627739039206, 0.11547564965135286, 0.1818344155877092, 0.3641291714680455, 0.1959898795859929, 0.25813581909065303, 0.17926425976255955, 0.3533459352918057, 0.25022579772638964, 0.21713699069831158, 0.029013944581899112, 0.029013944581899112, 0.9574601712026707, 0.029013944581899112, 0.26172015418458233, 0.1567077298099784, 0.38396434703764437, 0.1976585207823143, 0.27722529666128115, 0.2296135991779624, 0.24257213457862103, 0.25072581977454106, 0.27833717217362103, 0.20793955622451363, 0.2719209581397486, 0.24182801062876944, 0.11711419721705117, 0.11190912178518223, 0.6128976321025678, 0.1587548006720027, 0.03505471985784499, 0.07010943971568998, 0.07010943971568998, 0.8237859166593572, 0.3417936310358391, 0.1825180841576446, 0.27463267975595584, 0.20105507707990536, 0.025804382159222643, 0.025804382159222643, 0.9160555666524038, 0.012902191079611321, 0.8849140961646641, 0.01712736960318705, 0.057091232010623494, 0.03996386240743644, 0.9102337201142998, 0.02960109658908292, 0.02960109658908292, 0.02960109658908292, 0.8294307439774253, 0.030719657184349086, 0.08831901440500363, 0.049919442924567264, 0.13634945945644167, 0.03408736486411042, 0.09468712462252893, 0.7347720870708245, 0.9173824154730588, 0.030078111982723237, 0.045117167974084854, 0.015039055991361619, 0.47215269868890425, 0.1769625283208012, 0.14797401993420314, 0.2029195587061864, 0.6106134075135529, 0.10441939352074517, 0.17088173738524245, 0.11402117683299759, 0.22918168244987627, 0.2558263050267961, 0.3183131601093234, 0.19665817517626952, 0.018545276509995937, 0.8901732724798049, 0.018545276509995937, 0.08345374429498172, 0.3249551212293521, 0.1798807760624289, 0.2611908810232413, 0.2339448633960217, 0.46256209018356076, 0.1385648552091724, 0.20533932163350208, 0.19358325360104967, 0.012936497473948122, 0.012936497473948122, 0.9573008130721611, 0.012936497473948122, 0.06817947437787801, 0.04829379435099692, 0.7897455782104202, 0.09374677726958226, 0.9372326713099035, 0.017040594023816427, 0.02556089103572464, 0.02556089103572464, 0.04809947392407482, 0.07214921088611223, 0.8297159251902907, 0.04809947392407482, 0.043982317798959794, 0.11219979030346887, 0.7853985321242821, 0.05924148928023156, 0.04362983581223749, 0.08725967162447498, 0.8227340467450498, 0.04362983581223749, 0.01952079937057376, 0.9174775704169668, 0.01952079937057376, 0.03904159874114752, 0.02179916925194841, 0.02906555900259788, 0.8719667700779364, 0.0726638975064947, 0.038622636096027486, 0.9269432663046597, 0.038622636096027486, 0.9213837841767842, 0.022656978299429118, 0.030209304399238825, 0.030209304399238825, 0.9269970649635337, 0.014951565563927963, 0.029903131127855927, 0.029903131127855927, 0.06398570737039043, 0.027422446015881615, 0.06398570737039043, 0.8409550111537029, 0.045496555494479625, 0.028435347184049765, 0.15355087479386872, 0.7734414434061536, 0.028971348031011455, 0.05794269606202291, 0.9270831369923666, 0.028971348031011455, 0.08710415495385915, 0.7754394282477705, 0.1168470371332257, 0.019120424258164202, 0.014446859405580614, 0.9245990019571593, 0.04334057821674184, 0.028893718811161227, 0.19114584115831693, 0.05859945495364461, 0.6466868421670066, 0.10254904616887807, 0.009780078633323072, 0.8704269983657534, 0.009780078633323072, 0.11247090428321532, 0.23742562669823103, 0.302436563132205, 0.2593975137633912, 0.20059040426546246, 0.7955620977807545, 0.05440997711254698, 0.05588051703450771, 0.09411455500548667, 0.9353902670188785, 0.009170492813910573, 0.03668197125564229, 0.018340985627821146, 0.04862948275713312, 0.9239601723855293, 0.984931248121725, 0.07933548102613532, 0.6386506222603893, 0.18379386437721346, 0.09784709326556688, 0.15311085910973157, 0.03827771477743289, 0.019138857388716447, 0.7942625816317326, 0.018904040445774817, 0.8821885541361582, 0.0063013468152582726, 0.08821885541361582, 0.0925482507169339, 0.04627412535846695, 0.879208381810872, 0.052768608040792746, 0.9498349447342693, 0.32355740549251866, 0.21765124787642356, 0.22983246942732424, 0.22902709940743, 0.37057160071349077, 0.19739465697005587, 0.22066530878557994, 0.2113299891619104, 0.9106974542680752, 0.029616177374571555, 0.029616177374571555, 0.037020221718214445, 0.01601540210238027, 0.01601540210238027, 0.9449087240404358, 0.01601540210238027, 0.07159053501130835, 0.8590864201357002, 0.07159053501130835, 0.9697318502042075, 0.7659935935669894, 0.034817890616681335, 0.11674233912651977, 0.08192444850983843, 0.9242950534540455, 0.14557119031962368, 0.2876240437130933, 0.3284514117936726, 0.23836732674693667, 0.05946568737688202, 0.7870458623410855, 0.055967705766477194, 0.09444550348093027, 0.019437609949739847, 0.894130057688033, 0.019437609949739847, 0.07775043979895939, 0.13822027135667161, 0.38034571197973005, 0.19197259910648837, 0.2893986931530312, 0.009809154168904212, 0.8828238752013792, 0.009809154168904212, 0.09809154168904213, 0.08969160679339208, 0.23334486954308897, 0.3512222733311335, 0.3257607541129159, 0.3244838049395035, 0.3497090870358279, 0.1807997091221138, 0.14501759090618224, 0.431502978996129, 0.3336706586255643, 0.11739878444467765, 0.11760693831780651, 0.49920121096633985, 0.13516383665345927, 0.2490167444177122, 0.11677221309154148, 0.17596152962943654, 0.38297509389936185, 0.21077744725665123, 0.23030259025029193, 0.07622002550650574, 0.07622002550650574, 0.838420280571563, 0.9608961896000073, 0.019217923792000147, 0.019217923792000147, 0.019217923792000147, 0.08436649414971903, 0.02812216471657301, 0.05624432943314602, 0.8436649414971904, 0.039497882332374085, 0.07899576466474817, 0.8689534113122299, 0.17582730572462574, 0.1491549000658003, 0.6208353369797663, 0.05439766943576246, 0.07441556970753088, 0.2726740247954914, 0.3484625754939361, 0.3045271837846928, 0.15034937803084314, 0.32526078316573487, 0.16002532810213502, 0.36470888730254025, 0.1400621675378799, 0.324120808452212, 0.1949568499158386, 0.3408717593248979, 0.1008368632078121, 0.016806143867968682, 0.07842867138385386, 0.8066949056624968, 0.9057790045263634, 0.10442848011277986, 0.026107120028194965, 0.026107120028194965, 0.8354278409022389, 0.019125584455300396, 0.019125584455300396, 0.9371536383097194, 0.03825116891060079, 0.1020019360656856, 0.9180174245911703, 0.0057009794843550675, 0.9919704302777818, 0.0057009794843550675, 0.028332024423794892, 0.028332024423794892, 0.9444008141264963, 0.9482181121123763, 0.008466233143860502, 0.016932466287721003, 0.016932466287721003, 0.916584143005612, 0.01466534628808979, 0.02933069257617958, 0.03666336572022448, 0.9287723006073495, 0.016886769101951807, 0.016886769101951807, 0.025330153652927713, 0.05994314389084937, 0.023977257556339747, 0.8991471583627405, 0.023977257556339747, 0.10956184022859994, 0.01565169146122856, 0.03130338292245712, 0.8295396474451138, 0.06592872929424831, 0.05860331492822072, 0.10255580112438625, 0.7691685084328969, 0.05683502650841355, 0.05683502650841355, 0.06393940482196525, 0.8241078843719964, 0.06206086733704038, 0.05641897030640034, 0.07334466139832045, 0.806791275381525, 0.4593142744102772, 0.20494276507950948, 0.14805307829975942, 0.18768933548237218, 0.2879826387510438, 0.23335717477998877, 0.22095824719769364, 0.2576871458848698, 0.01944371253544774, 0.8749670640951484, 0.01944371253544774, 0.0972185626772387, 0.05845963003970746, 0.6401329489347967, 0.04969068553375134, 0.25137640917074205, 0.6281623134026987, 0.21738192161620604, 0.09287208857781572, 0.061234344117241137, 0.976441110764634, 0.06834735782736716, 0.06834735782736716, 0.8201682939284058, 0.014169201094983833, 0.9351672722689329, 0.014169201094983833, 0.0425076032849515, 0.9630832587134329, 0.027516664534669513, 0.15238948148080883, 0.28258049518685413, 0.3879732205679385, 0.17718776980576983, 0.9090253755412296, 0.0300504256377266, 0.0300504256377266, 0.0300504256377266, 0.42565668862814576, 0.16965747636790074, 0.2783915783444745, 0.12628487539394276, 0.11593077628828032, 0.40150874101186523, 0.2632805860965182, 0.21938749460337645, 0.22608897373451772, 0.2357544874815324, 0.3405342596955468, 0.1976527521309817, 0.014539211517331075, 0.8868919025571955, 0.02907842303466215, 0.07269605758665537, 0.4483349810260178, 0.2163402341184505, 0.20607497983050505, 0.12934220402811275, 0.0916029445889015, 0.036641177835560604, 0.0916029445889015, 0.7786250290056628, 0.027793243193814314, 0.027793243193814314, 0.0972763511783501, 0.8476939174113365, 0.794124232247921, 0.12803814614142203, 0.046036187376691066, 0.03164987882147511, 0.25249606647043094, 0.1347591365993873, 0.40096753626765064, 0.21183190595272108, 0.9381589607276419, 0.07766094832211995, 0.07766094832211995, 0.8542704315433195, 0.12214718075299608, 0.5181474713792574, 0.14605499193240812, 0.21430092566272976, 0.29006989464261934, 0.15632105820461717, 0.37682134396953515, 0.17687188697720693, 0.7016167892573215, 0.13228069179059607, 0.06666946866246042, 0.100533325760853, 0.4800698399081894, 0.19472918363797284, 0.205158051242816, 0.12001745997704735, 0.17240910043288168, 0.16679896303784347, 0.31868317056204876, 0.34208154847793987, 0.01219067789982079, 0.8533474529874553, 0.01219067789982079, 0.1219067789982079, 0.013093354103345183, 0.9034414331308176, 0.006546677051672591, 0.0785601246200711, 0.2748482718580508, 0.31227998888252817, 0.2448767222125776, 0.1680500862217796, 0.6122990653110065, 0.13681118845004459, 0.23774393843048094, 0.013010862302165624, 0.8821311928047748, 0.035403258574104673, 0.04425407321763084, 0.038353530121946734, 0.012758845090988806, 0.8803603112782277, 0.012758845090988806, 0.08931191563692165, 0.0914268453261098, 0.08351490678827338, 0.20922681911167434, 0.6171312059512412, 0.09589287337628961, 0.2136436811251158, 0.204477450581794, 0.48651531345323407, 0.10286493565480166, 0.17380627058914763, 0.32593602217057843, 0.39727147563233745, 0.9202079540512913, 0.018404159081025825, 0.05521247724307748, 0.8537993342268436, 0.01134617055450955, 0.014182713193136938, 0.12197133346097766, 0.9368697790705388, 0.017033995983100705, 0.017033995983100705, 0.02555099397465106, 0.15770221184029848, 0.0979140106480974, 0.6287870241324721, 0.11553275592695858, 0.07892481376215334, 0.06313985100972266, 0.06313985100972266, 0.8208180631263946, 0.3076397174420059, 0.22466858524223549, 0.2987499532777448, 0.1690402125173894, 0.018458586843731785, 0.8860121684991256, 0.06460505395306124, 0.03691717368746357, 0.9242950534540455, 0.18024687885646581, 0.17516545088870372, 0.4250183053035707, 0.21955603860707804, 0.2352799860343235, 0.2047466422415581, 0.3264469203375451, 0.23354759773402478, 0.02378568025725804, 0.12157125464820777, 0.7241418211654115, 0.13214266809587802, 0.2290770356861279, 0.2019271647899942, 0.11301133760515641, 0.4561178310550457, 0.31722421638227155, 0.19625604853516532, 0.2264980904969419, 0.25991237462254113, 0.3250838213914278, 0.3947993620354653, 0.13636666191910637, 0.1435169737800333, 0.24049825207632233, 0.28670031765530707, 0.24861111478215595, 0.22413502051709855, 0.33897990516546883, 0.22088282115848892, 0.2128942923643302, 0.22740678634038522, 0.028553430864554332, 0.014276715432277166, 0.014276715432277166, 0.9565399339625702, 0.19874031511900284, 0.192226112725798, 0.3914235648548503, 0.21748293253103068, 0.05432578342042513, 0.036217188946950085, 0.13279635947215032, 0.7726333642016019, 0.09122267057440617, 0.07535785830059641, 0.0951888736428586, 0.7377137707321543, 0.21393141950450334, 0.31344358879870704, 0.3089023588507573, 0.16378044529671024, 0.22026680940847984, 0.26789939396254997, 0.3449972964760638, 0.16684962255562322, 0.1690639432930792, 0.05932068185722077, 0.7266783527509544, 0.04449051139291558, 0.01522969149949678, 0.04378536306105325, 0.9271074700318666, 0.01522969149949678, 0.9202423514150453, 0.02400632221082727, 0.02400632221082727, 0.03200842961443636, 0.08688249928970881, 0.08688249928970881, 0.08688249928970881, 0.8688249928970881, 0.03475119670475158, 0.9382823110282926, 0.03475119670475158, 0.02443429713357053, 0.9040689939421096, 0.04886859426714106, 0.02443429713357053, 0.2437741143710975, 0.26341555280310613, 0.20504193204255716, 0.2878296772092476, 0.021928798761208367, 0.021928798761208367, 0.9429383467319596, 0.021928798761208367, 0.7280979187230284, 0.011770636099448496, 0.15301826929283044, 0.10761724433781482, 0.07405294413293662, 0.07405294413293662, 0.07405294413293662, 0.8886353295952394, 0.03970421443412114, 0.9529011464189073, 0.06622107237403804, 0.06622107237403804, 0.8608739408624946, 0.016909120638939103, 0.6827057457971664, 0.023250040878541267, 0.2790004905424952, 0.9467157160356668, 0.02103812702301482, 0.02103812702301482, 0.02103812702301482, 0.03254959657051075, 0.8527994301473816, 0.0520793545128172, 0.05858927382691935, 0.24405205586591205, 0.303667019793383, 0.22537621760898754, 0.22695891576635402, 0.23007045051648206, 0.2759762084476695, 0.3221527968091294, 0.17170649279276], \"Term\": [\"113\", \"113\", \"113\", \"399\", \"399\", \"3ds\", \"3ds\", \"40k\", \"40k\", \"40k\", \"40k\", \"6pm\", \"6pm\", \"6pm\", \"6pm\", \"889\", \"889\", \"889\", \"889\", \"9009\", \"9009\", \"9009\", \"9009\", \"999\", \"999\", \"999\", \"999\", \"ability\", \"ability\", \"ability\", \"ability\", \"abstracting\", \"abstracting\", \"abstracting\", \"abstracting\", \"abstraction\", \"abstraction\", \"abstraction\", \"abstraction\", \"abstractor\", \"abstractor\", \"abstractor\", \"abstractor\", \"accenture\", \"accenture\", \"accenture\", \"accenture\", \"across\", \"across\", \"across\", \"across\", \"adversary\", \"ai\", \"ai\", \"ai\", \"ai\", \"allscripts\", \"allscripts\", \"allscripts\", \"allscripts\", \"amazon\", \"amazon\", \"amazon\", \"amazon\", \"analysis\", \"analysis\", \"analysis\", \"analysis\", \"analytics\", \"analytics\", \"analytics\", \"analytics\", \"apple\", \"apple\", \"apple\", \"apple\", \"applicants\", \"applicants\", \"applicants\", \"applicants\", \"ar\", \"ar\", \"ar\", \"ar\", \"attacker\", \"attacker\", \"attackers\", \"attackers\", \"attackers\", \"aurora\", \"aurora\", \"aurora\", \"aurora\", \"autoimmune\", \"autoimmune\", \"autoimmune\", \"best\", \"best\", \"best\", \"best\", \"biological\", \"biological\", \"biological\", \"biological\", \"biologist\", \"biologist\", \"biology\", \"biology\", \"biology\", \"biology\", \"bioscience\", \"bioscience\", \"bioscience\", \"blackwatch\", \"blackwatch\", \"blackwatch\", \"blackwatch\", \"build\", \"build\", \"build\", \"build\", \"building\", \"building\", \"building\", \"building\", \"business\", \"business\", \"business\", \"business\", \"cancer\", \"cancer\", \"cancer\", \"cancer\", \"carnegie\", \"carnegie\", \"chart\", \"chart\", \"chart\", \"chart\", \"charts\", \"charts\", \"charts\", \"charts\", \"client\", \"client\", \"client\", \"client\", \"clients\", \"clients\", \"clients\", \"clients\", \"clinical\", \"clinical\", \"clinical\", \"clinical\", \"closer\", \"closer\", \"closer\", \"closer\", \"cloud\", \"cloud\", \"cloud\", \"cloud\", \"coder\", \"coder\", \"coder\", \"coder\", \"colorado\", \"colorado\", \"colorado\", \"colorado\", \"compensation\", \"compensation\", \"compensation\", \"compensation\", \"compiler\", \"compiler\", \"compiler\", \"compiler\", \"computational\", \"computational\", \"computational\", \"computational\", \"computer\", \"computer\", \"computer\", \"computer\", \"connects\", \"connects\", \"connects\", \"connects\", \"convoy\", \"convoy\", \"convoy\", \"convoy\", \"corporation\", \"corporation\", \"corporation\", \"corporation\", \"credentialing\", \"credentialing\", \"credentialing\", \"credentialing\", \"cricket\", \"cricket\", \"cricket\", \"cricket\", \"csi\", \"csi\", \"csi\", \"csi\", \"customer\", \"customer\", \"customer\", \"customer\", \"customers\", \"customers\", \"customers\", \"customers\", \"defender\", \"defender\", \"defender\", \"defender\", \"design\", \"design\", \"design\", \"design\", \"develop\", \"develop\", \"develop\", \"develop\", \"development\", \"development\", \"development\", \"development\", \"devices\", \"devices\", \"devices\", \"devices\", \"diabetes\", \"diabetes\", \"diabetes\", \"diabetes\", \"disability\", \"disability\", \"disability\", \"disability\", \"disadvantaged\", \"disadvantaged\", \"disadvantaged\", \"disadvantaged\", \"disclose\", \"disclose\", \"disclose\", \"disclose\", \"disclosed\", \"disclosed\", \"disclosed\", \"disclosed\", \"disclosure\", \"disclosure\", \"disclosure\", \"disclosure\", \"diseases\", \"diseases\", \"diseases\", \"diseases\", \"ellis\", \"ellis\", \"ellis\", \"ellis\", \"employees\", \"employees\", \"employees\", \"employees\", \"employment\", \"employment\", \"employment\", \"employment\", \"engineering\", \"engineering\", \"engineering\", \"engineering\", \"enters\", \"enters\", \"enters\", \"enters\", \"environment\", \"environment\", \"environment\", \"environment\", \"equal\", \"equal\", \"equal\", \"equal\", \"exabeam\", \"exabeam\", \"exabeam\", \"exabeam\", \"expedia\", \"expedia\", \"expedia\", \"expedia\", \"expunged\", \"expunged\", \"expunged\", \"expunged\", \"ext\", \"ext\", \"ext\", \"ext\", \"facebook\", \"facebook\", \"facebook\", \"facebook\", \"fb\", \"fb\", \"fb\", \"fb\", \"fba\", \"fba\", \"fba\", \"fba\", \"foursquare\", \"foursquare\", \"foursquare\", \"foursquare\", \"fpgas\", \"fpgas\", \"fpgas\", \"furnish\", \"furnish\", \"furnish\", \"furnish\", \"furtherance\", \"furtherance\", \"furtherance\", \"furtherance\", \"gene\", \"gene\", \"gene\", \"gene\", \"genomics\", \"genomics\", \"genomics\", \"genomics\", \"geometry\", \"geometry\", \"geometry\", \"geometry\", \"getty\", \"getty\", \"getty\", \"getty\", \"groupsability\", \"groupsability\", \"groupsability\", \"groupsability\", \"hardware\", \"hardware\", \"hardware\", \"hardware\", \"hedis\", \"hedis\", \"hedis\", \"hedis\", \"help\", \"help\", \"help\", \"help\", \"hired\", \"hired\", \"hired\", \"hired\", \"holland\", \"holland\", \"holland\", \"holland\", \"holographic\", \"holographic\", \"hyperion\", \"images\", \"images\", \"images\", \"images\", \"immune\", \"immune\", \"immune\", \"immune\", \"immunizations\", \"immunizations\", \"immunizations\", \"immunizations\", \"immunotherapy\", \"immunotherapy\", \"immunotherapy\", \"imu\", \"imu\", \"including\", \"including\", \"including\", \"including\", \"information\", \"information\", \"information\", \"information\", \"inquired\", \"inquired\", \"inquired\", \"inquired\", \"jakarta\", \"jakarta\", \"jakarta\", \"jakarta\", \"jerry\", \"jerry\", \"jerry\", \"kill\", \"kpmg\", \"kpmg\", \"kpmg\", \"kpmg\", \"kramer\", \"learning\", \"learning\", \"learning\", \"learning\", \"legacy\", \"legacy\", \"legacy\", \"legacy\", \"liz\", \"liz\", \"liz\", \"liz\", \"looking\", \"looking\", \"looking\", \"looking\", \"lpn\", \"lpn\", \"lpn\", \"lpn\", \"machine\", \"machine\", \"machine\", \"machine\", \"management\", \"management\", \"management\", \"management\", \"marketing\", \"marketing\", \"marketing\", \"marketing\", \"may\", \"may\", \"may\", \"may\", \"medical\", \"medical\", \"medical\", \"medical\", \"metabolomics\", \"metabolomics\", \"metabolomics\", \"metamorphoses\", \"metamorphoses\", \"metamorphoses\", \"metamorphoses\", \"microbial\", \"microbial\", \"microbial\", \"microbial\", \"microscopy\", \"microscopy\", \"microscopy\", \"microsoft\", \"microsoft\", \"microsoft\", \"microsoft\", \"ml\", \"ml\", \"ml\", \"ml\", \"modeling\", \"modeling\", \"modeling\", \"modeling\", \"models\", \"models\", \"models\", \"models\", \"molecular\", \"molecular\", \"molecular\", \"molecular\", \"multiplexed\", \"ngs\", \"ngs\", \"ngs\", \"ngs\", \"niantic\", \"niantic\", \"niantic\", \"niantic\", \"nih\", \"nih\", \"nintendo\", \"nintendo\", \"nintendo\", \"novo\", \"novo\", \"novo\", \"obligated\", \"obligated\", \"obligated\", \"obligated\", \"observance\", \"observance\", \"observance\", \"observance\", \"observances\", \"observances\", \"observances\", \"observances\", \"oci\", \"oci\", \"oci\", \"oci\", \"omics\", \"omics\", \"omics\", \"omics\", \"ontologies\", \"ontologies\", \"ontologies\", \"ontologies\", \"ontologist\", \"ontologist\", \"ontologist\", \"ontologist\", \"ontology\", \"ontology\", \"ontology\", \"ontology\", \"opportunities\", \"opportunities\", \"opportunities\", \"opportunities\", \"opportunity\", \"opportunity\", \"opportunity\", \"opportunity\", \"overreader\", \"overreader\", \"overreader\", \"overreader\", \"patient\", \"patient\", \"patient\", \"patient\", \"pay\", \"pay\", \"pay\", \"pay\", \"perceptual\", \"phenotypic\", \"phenotypic\", \"phenotypic\", \"pine\", \"pine\", \"pine\", \"pine\", \"pok\\u00e9mon\", \"pok\\u00e9mon\", \"problems\", \"problems\", \"problems\", \"problems\", \"proceeding\", \"proceeding\", \"proceeding\", \"proceeding\", \"process\", \"process\", \"process\", \"process\", \"product\", \"product\", \"product\", \"product\", \"products\", \"products\", \"products\", \"products\", \"progyny\", \"progyny\", \"progyny\", \"progyny\", \"project\", \"project\", \"project\", \"project\", \"protein\", \"protein\", \"protein\", \"protein\", \"proteomics\", \"proteomics\", \"proteomics\", \"proteomics\", \"pwc\", \"pwc\", \"pwc\", \"pwc\", \"qualifications\", \"qualifications\", \"qualifications\", \"qualifications\", \"rdma\", \"receptor\", \"receptor\", \"receptor\", \"record\", \"record\", \"record\", \"record\", \"related\", \"related\", \"related\", \"related\", \"religious\", \"religious\", \"religious\", \"religious\", \"required\", \"required\", \"required\", \"required\", \"research\", \"research\", \"research\", \"research\", \"reviewer\", \"reviewer\", \"reviewer\", \"reviewer\", \"rn\", \"rn\", \"rn\", \"rn\", \"role\", \"role\", \"role\", \"role\", \"salesforce\", \"salesforce\", \"salesforce\", \"salesforce\", \"sap\", \"sap\", \"sap\", \"sap\", \"scanned\", \"scanned\", \"scanned\", \"scanned\", \"scientific\", \"scientific\", \"scientific\", \"scientific\", \"scientist\", \"scientist\", \"scientist\", \"scientist\", \"scientists\", \"scientists\", \"scientists\", \"scientists\", \"scot\", \"scot\", \"scot\", \"seagen\", \"seagen\", \"seagen\", \"seagen\", \"sealed\", \"sealed\", \"sealed\", \"sealed\", \"security\", \"security\", \"security\", \"security\", \"semantically\", \"semantically\", \"semantically\", \"semantically\", \"services\", \"services\", \"services\", \"services\", \"shipments\", \"shipments\", \"shipments\", \"shipments\", \"shlomo\", \"software\", \"software\", \"software\", \"software\", \"solutions\", \"solutions\", \"solutions\", \"solutions\", \"speech\", \"speech\", \"speech\", \"speech\", \"statistical\", \"statistical\", \"statistical\", \"statistical\", \"status\", \"status\", \"status\", \"status\", \"strategy\", \"strategy\", \"strategy\", \"strategy\", \"strong\", \"strong\", \"strong\", \"strong\", \"support\", \"support\", \"support\", \"support\", \"swedish\", \"swedish\", \"swedish\", \"swedish\", \"systems\", \"systems\", \"systems\", \"systems\", \"taxonomies\", \"taxonomies\", \"taxonomies\", \"taxonomies\", \"taxonomy\", \"taxonomy\", \"taxonomy\", \"taxonomy\", \"teams\", \"teams\", \"teams\", \"teams\", \"technical\", \"technical\", \"technical\", \"technical\", \"threat\", \"threat\", \"threat\", \"threat\", \"tiktok\", \"tiktok\", \"tiktok\", \"tiktok\", \"toll\", \"toll\", \"toll\", \"toll\", \"toyota\", \"toyota\", \"toyota\", \"toyota\", \"tpu\", \"tpu\", \"tpu\", \"unilever\", \"unilever\", \"unilever\", \"unilever\", \"using\", \"using\", \"using\", \"using\", \"usrc\", \"usrc\", \"usrc\", \"usrc\", \"uw\", \"uw\", \"uw\", \"uw\", \"verge\", \"verge\", \"verge\", \"verge\", \"verilog\", \"verilog\", \"vitro\", \"vitro\", \"vitro\", \"wayfair\", \"wayfair\", \"wayfair\", \"wayfair\", \"widen\", \"widen\", \"widen\", \"widen\", \"winner\", \"winner\", \"winner\", \"winner\", \"working\", \"working\", \"working\", \"working\", \"world\", \"world\", \"world\", \"world\"]}, \"R\": 20, \"lambda.step\": 0.01, \"plot.opts\": {\"xlab\": \"PC1\", \"ylab\": \"PC2\"}, \"topic.order\": [3, 1, 2, 4]};\n",
       "\n",
       "function LDAvis_load_lib(url, callback){\n",
       "  var s = document.createElement('script');\n",
       "  s.src = url;\n",
       "  s.async = true;\n",
       "  s.onreadystatechange = s.onload = callback;\n",
       "  s.onerror = function(){console.warn(\"failed to load library \" + url);};\n",
       "  document.getElementsByTagName(\"head\")[0].appendChild(s);\n",
       "}\n",
       "\n",
       "if(typeof(LDAvis) !== \"undefined\"){\n",
       "   // already loaded: just create the visualization\n",
       "   !function(LDAvis){\n",
       "       new LDAvis(\"#\" + \"ldavis_el681403533967095844290407234\", ldavis_el681403533967095844290407234_data);\n",
       "   }(LDAvis);\n",
       "}else if(typeof define === \"function\" && define.amd){\n",
       "   // require.js is available: use it to load d3/LDAvis\n",
       "   require.config({paths: {d3: \"https://d3js.org/d3.v5\"}});\n",
       "   require([\"d3\"], function(d3){\n",
       "      window.d3 = d3;\n",
       "      LDAvis_load_lib(\"https://cdn.jsdelivr.net/gh/bmabey/pyLDAvis@3.3.1/pyLDAvis/js/ldavis.v3.0.0.js\", function(){\n",
       "        new LDAvis(\"#\" + \"ldavis_el681403533967095844290407234\", ldavis_el681403533967095844290407234_data);\n",
       "      });\n",
       "    });\n",
       "}else{\n",
       "    // require.js not available: dynamically load d3 & LDAvis\n",
       "    LDAvis_load_lib(\"https://d3js.org/d3.v5.js\", function(){\n",
       "         LDAvis_load_lib(\"https://cdn.jsdelivr.net/gh/bmabey/pyLDAvis@3.3.1/pyLDAvis/js/ldavis.v3.0.0.js\", function(){\n",
       "                 new LDAvis(\"#\" + \"ldavis_el681403533967095844290407234\", ldavis_el681403533967095844290407234_data);\n",
       "            })\n",
       "         });\n",
       "}\n",
       "</script>"
      ],
      "text/plain": [
       "<IPython.core.display.HTML object>"
      ]
     },
     "execution_count": 23,
     "metadata": {},
     "output_type": "execute_result"
    }
   ],
   "source": [
    "# visualize topics\n",
    "import pyLDAvis\n",
    "import pyLDAvis.gensim_models\n",
    "\n",
    "lda_display = pyLDAvis.gensim_models.prepare(ldamodel, corpus, dictionary, sort_topics=True, R=20)\n",
    "pyLDAvis.display(lda_display)"
   ]
  },
  {
   "cell_type": "code",
   "execution_count": null,
   "metadata": {
    "cell_id": "00007-003596ff-31bc-4e84-97f6-d470f1084740",
    "deepnote_cell_type": "code",
    "deepnote_output_heights": [
     null,
     98
    ],
    "deepnote_to_be_reexecuted": false,
    "execution_millis": 15,
    "execution_start": 1638709409439,
    "source_hash": "7a262b99",
    "tags": []
   },
   "outputs": [
    {
     "name": "stderr",
     "output_type": "stream",
     "text": [
      "/shared-libs/python3.7/py-core/lib/python3.7/site-packages/ipykernel/ipkernel.py:283: DeprecationWarning: `should_run_async` will not call `transform_cell` automatically in the future. Please pass the result to `transformed_cell` argument and any exception that happen during thetransform in `preprocessing_exc_tuple` in IPython 7.17 and above.\n",
      "  and should_run_async(code)\n"
     ]
    },
    {
     "data": {
      "text/plain": [
       "[[(0, 0.7000995), (2, 0.20040146), (3, 0.09589622)],\n",
       " [(1, 0.6060809), (2, 0.39207456)],\n",
       " [(0, 0.06769992), (1, 0.36618018), (2, 0.098787546), (3, 0.46733233)],\n",
       " [(0, 0.06395269), (1, 0.07263825), (2, 0.02709523), (3, 0.83631384)],\n",
       " [(1, 0.07564), (2, 0.55475515), (3, 0.3690532)]]"
      ]
     },
     "execution_count": 29,
     "metadata": {},
     "output_type": "execute_result"
    }
   ],
   "source": [
    "# assign topic\n",
    "# test_corpus = gensim.matutils.Sparse2Corpus(tf, documents_columns=False)\n",
    "predict = ldamodel.get_document_topics(corpus)\n",
    "\n",
    "\n",
    "df_temp3=new_df.copy(deep=True)\n",
    "\n",
    "list_topics = []\n",
    "for i in range(len(predict)):\n",
    "    list_topics.append(predict[i][0][0]) \n",
    "\n",
    "df_temp3['topic_category'] = list_topics"
   ]
  },
  {
   "cell_type": "code",
   "execution_count": null,
   "metadata": {
    "cell_id": "00010-294432db-51e8-4aa2-8bb9-c679d0a2a9aa",
    "deepnote_cell_type": "code",
    "tags": []
   },
   "outputs": [],
   "source": []
  },
  {
   "cell_type": "code",
   "execution_count": null,
   "metadata": {
    "cell_id": "00010-5f85ba77-73bb-4499-bb35-a7feecfbf461",
    "deepnote_cell_type": "code",
    "tags": []
   },
   "outputs": [],
   "source": [
    "import pandas as pd\n",
    "import numpy as np\n",
    "import nltk\n",
    "import seaborn as sns\n",
    "import lightgbm as lgb\n",
    "import xgboost as xgb\n",
    "from sklearn import svm\n",
    "from nltk.stem import PorterStemmer\n",
    "from nltk.corpus import stopwords\n",
    "from sklearn.metrics import accuracy_score, mean_squared_error\n",
    "from sklearn.model_selection import train_test_split\n",
    "from sklearn.feature_extraction.text import TfidfVectorizer"
   ]
  },
  {
   "cell_type": "code",
   "execution_count": null,
   "metadata": {
    "cell_id": "00011-aa0fa94f-402e-4cff-baf5-818c0ee89e31",
    "deepnote_cell_type": "code",
    "tags": []
   },
   "outputs": [],
   "source": [
    "df=pd.read_csv('data.csv')\n",
    "df = df.drop_duplicates('Content_url')\n",
    "df.reset_index(inplace=True,drop=True)\n",
    "\n",
    "df_temp=df.copy(deep=True)"
   ]
  },
  {
   "cell_type": "markdown",
   "metadata": {
    "cell_id": "00012-e34da097-5b71-4f1d-a53e-acbce343bc38",
    "deepnote_cell_type": "markdown",
    "tags": []
   },
   "source": [
    "# salary"
   ]
  },
  {
   "cell_type": "code",
   "execution_count": null,
   "metadata": {
    "cell_id": "00012-5324d9aa-044a-4b50-96c5-46436cbda09a",
    "deepnote_cell_type": "code",
    "tags": []
   },
   "outputs": [],
   "source": [
    "df_temp=df_temp.replace(to_replace='None', value=np.nan)\n",
    "df_temp=df_temp.dropna(subset=['Salary'])\n",
    "df_temp.reset_index(inplace=True,drop=True)\n",
    "df_temp['Salary'].replace(regex=True, inplace=True, to_replace=\"\\n\", value=\"\")\n",
    "df_temp['Salary'].replace(regex=True, inplace=True, to_replace=\",\", value=\"\")\n",
    "df_temp['Salary'].replace(regex=True, inplace=True, to_replace=\"\\$\", value=\"\")\n",
    "\n",
    "df_temp.loc[df_temp['Salary'].str.contains('year'), 'salary_type'] = 'year'\n",
    "df_temp.loc[df_temp['Salary'].str.contains('month'), 'salary_type'] = 'month'\n",
    "df_temp.loc[df_temp['Salary'].str.contains('week'), 'salary_type'] = 'week'\n",
    "df_temp.loc[df_temp['Salary'].str.contains('day'), 'salary_type'] = 'day'\n",
    "df_temp.loc[df_temp['Salary'].str.contains('hour'), 'salary_type'] = 'hour'\n",
    "\n",
    "df_temp['Salary'].replace(r'[a-zA-Z%]', '', regex=True, inplace=True)\n",
    "df_temp['salary_range'] = df_temp['Salary'].str.split('-')\n",
    "\n",
    "def mean(df ):\n",
    "    df_temp['lower_cut'] = df_temp['salary_range'].str[0].astype('float') \n",
    "    df_temp['upper_cut'] = df_temp['salary_range'].str[1].astype('float') \n",
    "    df_temp['SalaryMean'] = df_temp[['lower_cut','upper_cut']].mean(axis=1)\n",
    "    \n",
    "mean(df_temp)\n",
    "df_temp.drop(['salary_range', 'lower_cut', 'upper_cut'], axis=1, inplace=True)\n",
    "\n",
    "for index in range(0,df_temp.shape[0],1):\n",
    "    data = df_temp.at[index,'salary_type']\n",
    "    if data == 'month':\n",
    "        df_temp.at[index,'SalaryMean'] = df_temp.at[index,'SalaryMean'].astype(float) * 12 \n",
    "    elif data == 'week':\n",
    "        df_temp.at[index,'SalaryMean'] = df_temp.at[index,'SalaryMean'].astype(float) * 52 \n",
    "    elif data == 'day':\n",
    "        df_temp.at[index,'SalaryMean'] = df_temp.at[index,'SalaryMean'].astype(float) * 260\n",
    "    elif data == 'hour':\n",
    "        df_temp.at[index,'SalaryMean'] = df_temp.at[index,'SalaryMean'].astype(float) * 2080\n",
    "        \n",
    "df_temp.drop(['salary_type'], axis=1, inplace=True)"
   ]
  },
  {
   "cell_type": "code",
   "execution_count": null,
   "metadata": {
    "cell_id": "00013-939edd15-f481-49a1-aa93-547dcba2e752",
    "deepnote_cell_type": "code",
    "tags": []
   },
   "outputs": [],
   "source": [
    "chart = sns.histplot(df_temp[\"SalaryMean\"])\n",
    "chart.axvline(df_temp[\"SalaryMean\"].mean(), lw=2, color='black')\n",
    "chart.set_title('Salary Mean across Indeed Jobs Data')"
   ]
  },
  {
   "cell_type": "markdown",
   "metadata": {
    "cell_id": "00015-7fbf1691-fec8-4ecb-b324-4a7e9b445b20",
    "deepnote_cell_type": "markdown",
    "tags": []
   },
   "source": [
    "# one-hot encoding"
   ]
  },
  {
   "cell_type": "code",
   "execution_count": null,
   "metadata": {
    "cell_id": "00014-68c2ae6e-beef-4890-85d6-61cbe720490c",
    "deepnote_cell_type": "code",
    "tags": []
   },
   "outputs": [],
   "source": [
    "def encode_and_bind(original_dataframe, feature_to_encode):\n",
    "    dummies = pd.get_dummies(original_dataframe[[feature_to_encode]])\n",
    "    res = pd.concat([original_dataframe, dummies], axis=1)\n",
    "    res = res.drop([feature_to_encode], axis=1)\n",
    "    return(res)\n",
    "\n",
    "df_temp=encode_and_bind(df_temp,'SearchRegion')\n",
    "df_temp=encode_and_bind(df_temp,'SearchDomain')"
   ]
  },
  {
   "cell_type": "code",
   "execution_count": null,
   "metadata": {
    "cell_id": "00015-e0bb7003-eeef-4b32-901f-1ea4a263f3f2",
    "deepnote_cell_type": "code",
    "tags": []
   },
   "outputs": [],
   "source": [
    "df_temp=df_temp.drop(columns=['CompanyName','CompanyLocation','Salary','Content_url','CompanyRating','Date','Extract_Date'])"
   ]
  },
  {
   "cell_type": "markdown",
   "metadata": {
    "cell_id": "00018-b320738d-a9fa-4bf1-b86f-f3398e3fd516",
    "deepnote_cell_type": "markdown",
    "tags": []
   },
   "source": [
    "# JobTitle"
   ]
  },
  {
   "cell_type": "code",
   "execution_count": null,
   "metadata": {
    "cell_id": "00016-ec48201a-4823-4324-a6b2-9d1bce8ddc81",
    "deepnote_cell_type": "code",
    "tags": []
   },
   "outputs": [],
   "source": [
    "df_temp['JobTitle']= df_temp['JobTitle'].str.lower()\n",
    "df_temp['JobTitle']=df_temp['JobTitle'].str.replace('new','')\n",
    "df_temp['JobTitle']=df_temp['JobTitle'].str.replace('_|-',' ')\n",
    "df_temp['JobTitle']=df_temp['JobTitle'].str.replace('/',' ')\n",
    "df_temp['JobTitle']=df_temp['JobTitle'].str.replace('  ',' ')\n",
    "df_temp['JobTitle']=df_temp['JobTitle'].str.replace('sr.|sr|lead|head','senior')\n",
    "df_temp['JobTitle']=df_temp['JobTitle'].str.replace('jr.|jr|fresher','junior')\n",
    "df_temp['JobTitle']=df_temp['JobTitle'].str.replace('ml','machine learning')"
   ]
  },
  {
   "cell_type": "code",
   "execution_count": null,
   "metadata": {
    "cell_id": "00017-6e413820-c2b5-4722-9209-752c0a39d2b4",
    "deepnote_cell_type": "code",
    "tags": []
   },
   "outputs": [],
   "source": [
    "df_temp['Senior']=0\n",
    "subs=['senior','manager','expert','scientist','specialist']\n",
    "for idx, row in df_temp.iterrows():\n",
    "    for sub in subs:\n",
    "        if 'senior' in row['JobTitle']:\n",
    "            df_temp.loc[idx,'Senior']=1\n",
    "            break"
   ]
  },
  {
   "cell_type": "code",
   "execution_count": null,
   "metadata": {
    "cell_id": "00021-a20975ae-6690-4930-8270-17681f098064",
    "deepnote_cell_type": "code",
    "tags": []
   },
   "outputs": [],
   "source": [
    "tfidf_vect = TfidfVectorizer(stop_words='english',min_df=5)\n",
    "jt_tfidf= tfidf_vect.fit_transform(df_temp['JobTitle'])\n",
    "\n",
    "temp=pd.DataFrame(jt_tfidf.todense(),columns=tfidf_vect.get_feature_names())\n",
    "df_temp=pd.merge(df_temp, temp, left_index=True, right_index=True)\n",
    "\n",
    "df_temp=df_temp.drop(columns=['JobTitle'])"
   ]
  },
  {
   "cell_type": "markdown",
   "metadata": {
    "cell_id": "00022-c2072b67-4987-4101-bf5e-088178701d94",
    "deepnote_cell_type": "markdown",
    "tags": []
   },
   "source": [
    "# Degree"
   ]
  },
  {
   "cell_type": "code",
   "execution_count": null,
   "metadata": {
    "cell_id": "00022-d9213494-452c-4fab-b6a8-158e7b0be115",
    "deepnote_cell_type": "code",
    "tags": []
   },
   "outputs": [],
   "source": [
    "ps = PorterStemmer()\n",
    "\n",
    "def nlp_processing(desc):\n",
    "    # word  word_tokenize on description\n",
    "    token_list1 = [] \n",
    "    pattern=r'\\w[\\w\\',-]*\\w'  \n",
    "    tokens=nltk.regexp_tokenize(desc, pattern)\n",
    "    # tokens = nltk.word_tokenize(desc)\n",
    "    \n",
    "    #stop words \n",
    "    stop = set(stopwords.words('english'))\n",
    "    for token in tokens:\n",
    "        if token not in stop:\n",
    "            token_list1.append(token)\n",
    "        \n",
    "    token_tag = nltk.pos_tag(token_list1)\n",
    "    pos_tags = ['VBN', 'VBD', 'JJ', 'JJS', 'JJR', 'CD', 'NN', 'NNS', 'NNP', 'NNPS']\n",
    "    filtered_tokens1 = [x for x, tag in token_tag if tag in pos_tags]\n",
    "    \n",
    "    # stem words.\n",
    "    stemmed_tokens = [ps.stem(x).lower() for x in filtered_tokens1]\n",
    "    return set(stemmed_tokens)\n",
    "\n",
    "\n",
    "df_temp['des_word'] = df_temp[df_temp['Content_text'].notnull()]['Content_text'].map(nlp_processing)\n",
    "df_temp=df_temp.drop(columns=['Content_text'])"
   ]
  },
  {
   "cell_type": "code",
   "execution_count": null,
   "metadata": {
    "cell_id": "00023-5975cd36-09f1-49fc-a374-ed6a199bf7b9",
    "deepnote_cell_type": "code",
    "tags": []
   },
   "outputs": [],
   "source": [
    "KeyTools = set(['rust', 'php', 'cntk','google+cloud', 'sql+server','amazon+web+services','lightgbm', 'kubeflow','unixlinux', 'postgressql', 'postgresql', 'postgres', 'hbase', 'dask', 'ruby', 'julia', 'tensor','bigquery', 'unix', 'react',\n",
    " 'scikit', 'powerbi', 's3', 'ec2', 'lambda', 'ssrs', 'kubernetes', 'hana', 'spacy', 'django', 'sagemaker',\n",
    " 'seaborn', 'mllib', 'github', 'git', 'elasticsearch', 'splunk', 'airflow', 'looker', 'rapidminer', 'birt', 'pentaho', \n",
    " 'jquery', 'nodejs', 'plotly', 'bokeh', 'xgboost', 'rstudio', 'shiny', 'dash', 'hadoop', 'mapreduce', \n",
    " 'hive', 'cognos', 'angular', 'nltk', 'flask', 'node', 'firebase', 'bigtable','dplyr','ggplot2','esquisse','bioconductor','shiny','lubridate','knitr','mlr','quanteda','dt','rcrawler','caret','rmarkdown',\n",
    " 'leaflet','janitor','ggvis','plotly','rcharts','rbokeh','broom','stringr','magrittr','slidify','rvest',\n",
    " 'rmysql','rsqlite','prophet','glmnet','text2vec','snowballc','quantmod','rstan','swirl','datasciencer','python', 'pytorch', 'sql', 'mxnet', 'mlflow', 'einstein', 'theano', 'pyspark', 'solr', 'mahout', \n",
    " 'cassandra', 'aws', 'powerpoint', 'spark', 'pig', 'sas', 'java', 'nosql', 'docker', 'salesforce', 'scala', 'r',\n",
    " 'c', 'c++', 'net', 'tableau', 'pandas', 'scikitlearn', 'sklearn', 'matlab', 'scala', 'keras', 'tensorflow', 'clojure',\n",
    " 'caffe', 'scipy', 'numpy', 'matplotlib', 'vba', 'spss', 'linux', 'azure', 'cloud', 'gcp', 'mongodb', 'mysql', 'oracle', \n",
    " 'redshift', 'snowflake', 'kafka', 'javascript', 'qlik', 'jupyter', 'perl'])\n",
    "\n",
    "# Skills = set(['optimizing', 'prediction', 'forecasting',\n",
    "#  'clustering', 'cluster', 'optimization', 'visualization', 'nlp', 'c#','regression', 'logistic', 'nn', 'cnn', 'glm','rnn', 'lstm', 'gbm', 'boosting', 'recurrent', 'convolutional', 'bayesian',\n",
    "#  'bayes','random forest', 'natural language processing', 'machine learning', 'statistics', 'cleansing', 'chatbot', 'cleaning', 'blockchain', 'causality', 'correlation', 'bandit', 'anomaly', 'kpi',\n",
    "#  'dashboard', 'geospatial', 'ocr', 'econometrics', 'pca', 'gis', 'svm', 'svd', 'tuning', 'hyperparameter', 'hypothesis',\n",
    "#  'salesforcecom', 'segmentation', 'biostatistics', 'unsupervised', 'supervised', 'exploratory',\n",
    "#  'recommender', 'recommendations', 'research', 'sequencing', 'probability', 'reinforcement', 'graph', 'bioinformatics',\n",
    "#  'chi', 'knn', 'outlier', 'etl', 'normalization', 'classification','decision tree', 'deep learning', 'experimental design',\n",
    "#  'time series', 'nearest neighbors', 'neural network', 'support vector machine', 'computer vision', 'machine vision', 'dimensionality reduction', \n",
    "#  'text analytics', 'power bi', 'a/b testing', 'ab testing', 'chat bot', 'data mining','vision'])\n",
    "\n",
    "Skills = set(['nlp', 'cnn', 'rnn', 'lstm'])\n",
    "\n",
    "degree  = set(['bachelor', 'master', 'doctor','bs','b.s','ms','m.s','ph.d','phd'])"
   ]
  },
  {
   "cell_type": "code",
   "execution_count": null,
   "metadata": {
    "cell_id": "00024-9fe28f84-22d5-4769-8056-c38f53e8b1ad",
    "deepnote_cell_type": "code",
    "tags": []
   },
   "outputs": [],
   "source": [
    "df_temp=df_temp.dropna(subset=['des_word'])\n",
    "df_temp.reset_index(inplace=True,drop=True)"
   ]
  },
  {
   "cell_type": "code",
   "execution_count": null,
   "metadata": {
    "cell_id": "00026-19e9a7e2-036e-499d-9b9d-0932447fd2c7",
    "deepnote_cell_type": "code",
    "tags": []
   },
   "outputs": [],
   "source": [
    "def add_feature_set(set_customer, df):\n",
    "        result = set([ps.stem(x) for x in set_customer])\n",
    "        list_result = []\n",
    "        len(df['des_word'])\n",
    "        for i in range(len(df['des_word'])):\n",
    "            desc_token = df['des_word'][i]\n",
    "            result_words = result.intersection(desc_token)\n",
    "            list_result.append(result_words)\n",
    "\n",
    "        for i in range(len(list_result)):\n",
    "            if(list_result[i]==set()):\n",
    "                continue\n",
    "            else:\n",
    "                for j in list_result[i]: \n",
    "                    if (j not in df.columns):\n",
    "                        df[j] = 0 \n",
    "                    df.loc[i,[j]] = 1 \n",
    "\n",
    "        return df\n",
    "\n",
    "df_temp = add_feature_set(degree, df_temp)\n",
    "\n",
    "df_temp['BS']=df_temp['bs']|df_temp['bachelor']\n",
    "df_temp.drop(['bs','bachelor'], axis=1, inplace=True)\n",
    "df_temp['MS']=df_temp['ms']|df_temp['master']\n",
    "df_temp.drop(['ms','master'], axis=1, inplace=True)\n",
    "df_temp['PHD']=df_temp['phd']|df_temp['doctor']\n",
    "df_temp.drop(['phd','doctor'], axis=1, inplace=True)\n",
    "\n",
    "df_temp.drop(['des_word'], axis=1, inplace=True)"
   ]
  },
  {
   "cell_type": "markdown",
   "metadata": {
    "cell_id": "00027-d7537a50-d456-4238-bd9a-395ebe4a1d35",
    "deepnote_cell_type": "markdown",
    "tags": []
   },
   "source": [
    "# Model"
   ]
  },
  {
   "cell_type": "code",
   "execution_count": null,
   "metadata": {
    "cell_id": "00027-e8318d77-4946-4646-b717-d3da05807668",
    "deepnote_cell_type": "code",
    "tags": []
   },
   "outputs": [],
   "source": [
    "#l=list(range(1,10))+list(range(100,103))\n",
    "data_X=np.array(df_temp.iloc[:,1:])\n",
    "data_y=np.array(df_temp.iloc[:,0]>df_temp['SalaryMean'].mean()).astype(int)\n",
    "print(data_X.shape)\n",
    "\n",
    "x_train,x_test,y_train,y_test=train_test_split(data_X,data_y,test_size=0.1,random_state=123)"
   ]
  },
  {
   "cell_type": "code",
   "execution_count": null,
   "metadata": {
    "cell_id": "00029-4b6a2800-389d-4bf8-be13-54f9d5714f51",
    "deepnote_cell_type": "code",
    "tags": []
   },
   "outputs": [],
   "source": [
    "l=list(range(0,10))+list(range(100,103))\n",
    "corr = df_temp.iloc[:,l].corr()\n",
    "sns.heatmap(corr,  annot=True)"
   ]
  },
  {
   "cell_type": "code",
   "execution_count": null,
   "metadata": {
    "cell_id": "00028-c0b42ef4-aeb0-45ab-8438-fcf36d0ffa79",
    "deepnote_cell_type": "code",
    "tags": []
   },
   "outputs": [],
   "source": [
    "svm_clf = svm.SVC()\n",
    "svm_clf.fit(x_train,y_train)\n",
    "pred_svm_train=svm_clf.predict(x_train)\n",
    "pred_svm_test=svm_clf.predict(x_test)\n",
    "print(accuracy_score(pred_svm_train,y_train))\n",
    "print(accuracy_score(pred_svm_test,y_test))"
   ]
  },
  {
   "cell_type": "code",
   "execution_count": null,
   "metadata": {
    "cell_id": "00029-eea6c874-9754-4cad-a7e1-35bc30ecb8a4",
    "deepnote_cell_type": "code",
    "tags": []
   },
   "outputs": [],
   "source": [
    "lgb_clf = lgb.LGBMClassifier()\n",
    "lgb_clf.fit(x_train,y_train)\n",
    "pred_lgb_train=lgb_clf.predict(x_train)\n",
    "pred_lgb_test=lgb_clf.predict(x_test)\n",
    "print(accuracy_score(pred_lgb_train,y_train))\n",
    "print(accuracy_score(pred_lgb_test,y_test))"
   ]
  },
  {
   "cell_type": "code",
   "execution_count": null,
   "metadata": {
    "cell_id": "00030-9a3ad2fc-486e-4332-8b66-a40357c3534a",
    "deepnote_cell_type": "code",
    "tags": []
   },
   "outputs": [],
   "source": [
    "xgb_clf = xgb.XGBClassifier()\n",
    "xgb_clf.fit(x_train,y_train)\n",
    "pred_xgb_train=xgb_clf.predict(x_train)\n",
    "pred_xgb_test=xgb_clf.predict(x_test)\n",
    "print(accuracy_score(pred_xgb_train,y_train))\n",
    "print(accuracy_score(pred_xgb_test,y_test))"
   ]
  },
  {
   "cell_type": "markdown",
   "metadata": {
    "created_in_deepnote_cell": true,
    "deepnote_cell_type": "markdown",
    "tags": []
   },
   "source": [
    "<a style='text-decoration:none;line-height:16px;display:flex;color:#5B5B62;padding:10px;justify-content:end;' href='https://deepnote.com?utm_source=created-in-deepnote-cell&projectId=4e77b477-2259-494e-aaf4-b532e5790ad6' target=\"_blank\">\n",
    "<img alt='Created in deepnote.com' style='display:inline;max-height:16px;margin:0px;margin-right:7.5px;' src='data:image/svg+xml;base64,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' > </img>\n",
    "Created in <span style='font-weight:600;margin-left:4px;'>Deepnote</span></a>"
   ]
  }
 ],
 "metadata": {
  "deepnote": {
   "is_reactive": false
  },
  "deepnote_execution_queue": [],
  "deepnote_notebook_id": "2e6587cf-354c-46db-859a-95328dbcec6d",
  "kernelspec": {
   "display_name": "Python 3",
   "language": "python",
   "name": "python3"
  },
  "language_info": {
   "codemirror_mode": {
    "name": "ipython",
    "version": 3
   },
   "file_extension": ".py",
   "mimetype": "text/x-python",
   "name": "python",
   "nbconvert_exporter": "python",
   "pygments_lexer": "ipython3",
   "version": "3.8.8"
  }
 },
 "nbformat": 4,
 "nbformat_minor": 4
}
