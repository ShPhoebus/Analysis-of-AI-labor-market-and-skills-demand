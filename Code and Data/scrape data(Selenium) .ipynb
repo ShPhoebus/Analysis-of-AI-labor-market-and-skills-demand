{
 "cells": [
  {
   "cell_type": "code",
   "execution_count": 14,
   "id": "8cd82049",
   "metadata": {},
   "outputs": [],
   "source": [
    "import csv\n",
    "import time\n",
    "from datetime import datetime\n",
    "from bs4 import BeautifulSoup\n",
    "from selenium import webdriver\n",
    "from selenium.webdriver.common.by import By\n",
    "from selenium.webdriver.support.ui import WebDriverWait\n",
    "from selenium.webdriver.support import expected_conditions as EC\n",
    "from selenium.common.exceptions import NoSuchElementException, ElementNotInteractableException, TimeoutException, ElementClickInterceptedException"
   ]
  },
  {
   "cell_type": "code",
   "execution_count": 3,
   "id": "f957221d",
   "metadata": {},
   "outputs": [],
   "source": [
    "def get_url(position, location):\n",
    "    template = 'https://www.indeed.com/jobs?q={}&l={}'\n",
    "    position = position.replace(' ', '+')\n",
    "    location = location.replace(' ', '+')\n",
    "    url = template.format(position, location)\n",
    "    return url"
   ]
  },
  {
   "cell_type": "code",
   "execution_count": 4,
   "id": "9898c1ab",
   "metadata": {},
   "outputs": [],
   "source": [
    "def save_data_to_file(records):\n",
    "#     cols=['Job Title', 'Company', 'Location', 'Rating', 'Salary', 'Posting Date', 'Extract Date', 'Summary', 'URL']\n",
    "#     my_df=pd.DataFrame(records,columns=cols)\n",
    "#     my_df.to_csv('result.csv')\n",
    "    with open('result.csv', 'w', newline='', encoding='utf-8-sig') as f:\n",
    "        writer = csv.writer(f)\n",
    "        writer.writerow(['Job Title', 'Company', 'Location', 'Rating', 'Salary', 'Posting Date', 'Extract Date', 'Summary', 'URL'])\n",
    "        writer.writerows(records)"
   ]
  },
  {
   "cell_type": "code",
   "execution_count": 5,
   "id": "a564df84",
   "metadata": {},
   "outputs": [],
   "source": [
    "def get_record(card):\n",
    "    \"\"\"Extract job data from single card\"\"\"\n",
    "    try:\n",
    "        jobs = card.find('h2','jobTitle').find_all('span')\n",
    "        for job in jobs:\n",
    "            if job.text.strip()==\"new\":\n",
    "                continue\n",
    "            else:\n",
    "                job_title=job.text.strip()\n",
    "    except AttributeError:\n",
    "        job_title = ''\n",
    "        \n",
    "    try:\n",
    "        company = card.find('span', 'companyName').text.strip()\n",
    "    except AttributeError:\n",
    "        company = ''\n",
    "        \n",
    "    try:\n",
    "        location = card.find('div', 'companyLocation').text.strip()\n",
    "    except AttributeError:\n",
    "        location = ''\n",
    "        \n",
    "    try:\n",
    "        job_li = card.find('div', 'job-snippet').find_all('li')\n",
    "        job_summary = ''\n",
    "        for li in job_li:\n",
    "            job_summary+=li.text.strip(\"...\")\n",
    "    except AttributeError:\n",
    "        job_summary = ''\n",
    "        \n",
    "    try:\n",
    "        post_date = card.find('span', 'date').text.strip()\n",
    "    except AttributeError:\n",
    "        post_date = ''\n",
    "        \n",
    "    try:\n",
    "        salary = card.find('div', 'salary-snippet').span.text.strip()\n",
    "    except AttributeError:\n",
    "        salary = ''\n",
    "    \n",
    "    try:\n",
    "        rating = card.find('span', 'ratingNumber').span.text.strip()\n",
    "    except AttributeError:\n",
    "        rating = ''\n",
    "        \n",
    "    extract_date = datetime.today().strftime('%Y-%m-%d')\n",
    "    atag=card['href']\n",
    "    job_url = 'https://www.indeed.com' + atag\n",
    "  \n",
    "    return (job_title, company, location,rating, salary, post_date, extract_date, job_summary, job_url)\n",
    "    "
   ]
  },
  {
   "cell_type": "code",
   "execution_count": 6,
   "id": "1bdd5a0c",
   "metadata": {},
   "outputs": [],
   "source": [
    "def get_page_records(cards, job_list, url_set):\n",
    "    for card in cards:\n",
    "        record = get_record(card)\n",
    "\n",
    "        # add if job title exists and not duplicate\n",
    "        if record[0] and record[-1] not in url_set:\n",
    "            job_list.append(record)\n",
    "            url_set.add(record[-1])"
   ]
  },
  {
   "cell_type": "code",
   "execution_count": 22,
   "id": "0ee55ab8",
   "metadata": {},
   "outputs": [],
   "source": [
    "def main(position, location):\n",
    "\n",
    "    scraped_jobs = []\n",
    "    scraped_urls = set()\n",
    "    \n",
    "    url = get_url(position, location)\n",
    "    \n",
    "    driver = webdriver.Chrome()\n",
    "    driver.get(url)  \n",
    "    driver.implicitly_wait(5)     \n",
    "    \n",
    "    while True:\n",
    "        soup = BeautifulSoup(driver.page_source, \"html.parser\")\n",
    "        cards = soup.find_all('a',attrs={\"class\":\"fs-unmask\", \"target\":\"_blank\"})\n",
    "        get_page_records(cards, scraped_jobs, scraped_urls)\n",
    "        try:\n",
    "            next_page=WebDriverWait(driver,20).until(EC.presence_of_element_located((By.XPATH, '//a[@aria-label=\"Next\"]')))\n",
    "            webdriver.ActionChains(driver).move_to_element(next_page).perform()\n",
    "            next_page.click()\n",
    "            time.sleep(3)\n",
    "        except TimeoutException:\n",
    "            break\n",
    "        except ElementClickInterceptedException:\n",
    "            driver.find_element_by_css_selector('.popover-x-button-close.icl-CloseButton').click()  # to handle job notification popup\n",
    "            get_page_records(cards, scraped_jobs, scraped_urls)\n",
    "            continue\n",
    "    \n",
    "    driver.quit()\n",
    "    save_data_to_file(scraped_jobs)"
   ]
  },
  {
   "cell_type": "code",
   "execution_count": 70,
   "id": "991a3f0d",
   "metadata": {},
   "outputs": [],
   "source": [
    "main('machine learning', 'Seattle, WA')"
   ]
  },
  {
   "cell_type": "code",
   "execution_count": 72,
   "id": "69476c4b",
   "metadata": {},
   "outputs": [],
   "source": [
    "main('computer vision', 'Seattle, WA')"
   ]
  },
  {
   "cell_type": "code",
   "execution_count": 73,
   "id": "c5bbbb96",
   "metadata": {},
   "outputs": [],
   "source": [
    "main('nlp', 'Seattle, WA')"
   ]
  },
  {
   "cell_type": "code",
   "execution_count": 74,
   "id": "b089b464",
   "metadata": {},
   "outputs": [],
   "source": [
    "main('machine learning', 'New York, NY')"
   ]
  },
  {
   "cell_type": "code",
   "execution_count": 75,
   "id": "2f36b7e9",
   "metadata": {},
   "outputs": [],
   "source": [
    "main('computer vision', 'New York, NY')"
   ]
  },
  {
   "cell_type": "code",
   "execution_count": 77,
   "id": "f7150fe9",
   "metadata": {},
   "outputs": [],
   "source": [
    "main('nlp', 'New York, NY')"
   ]
  },
  {
   "cell_type": "code",
   "execution_count": 78,
   "id": "5b4db59c",
   "metadata": {},
   "outputs": [],
   "source": [
    "main('machine learning', 'San Francisco, CA')"
   ]
  },
  {
   "cell_type": "code",
   "execution_count": 79,
   "id": "b875eb7b",
   "metadata": {},
   "outputs": [],
   "source": [
    "main('computer vision', 'San Francisco, CA')"
   ]
  },
  {
   "cell_type": "code",
   "execution_count": 25,
   "id": "557c02c3",
   "metadata": {},
   "outputs": [],
   "source": [
    "main('nlp', 'San Francisco, CA')"
   ]
  },
  {
   "cell_type": "code",
   "execution_count": 30,
   "id": "bc789028",
   "metadata": {},
   "outputs": [],
   "source": [
    "import re\n",
    "import pandas as pd\n",
    "import string"
   ]
  },
  {
   "cell_type": "code",
   "execution_count": 35,
   "id": "f911acff",
   "metadata": {},
   "outputs": [],
   "source": [
    "a=[\"$132,400 - $211,600 a year\",\"$50 - $65 an hour\",\"$82,600 a year\"]"
   ]
  },
  {
   "cell_type": "code",
   "execution_count": 58,
   "id": "859ed63d",
   "metadata": {},
   "outputs": [
    {
     "name": "stdout",
     "output_type": "stream",
     "text": [
      "172000.0\n",
      "82600.0\n"
     ]
    }
   ],
   "source": [
    "\n",
    "for i in a:\n",
    "    if re.findall(\"a year\",i):\n",
    "        tmp=re.findall(r'[0-9,]+',i)\n",
    "        count=0\n",
    "        sum=0\n",
    "        for j in tmp:\n",
    "            j=j.replace(',','')\n",
    "            sum+=int(j)\n",
    "            count+=1\n",
    "        sum/=count\n",
    "        \n",
    "        "
   ]
  },
  {
   "cell_type": "code",
   "execution_count": 41,
   "id": "e43ca048",
   "metadata": {},
   "outputs": [
    {
     "data": {
      "text/plain": [
       "['a year']"
      ]
     },
     "execution_count": 41,
     "metadata": {},
     "output_type": "execute_result"
    }
   ],
   "source": [
    "re.findall(\"a year\",a[i])"
   ]
  },
  {
   "cell_type": "code",
   "execution_count": null,
   "id": "c77a4fc4",
   "metadata": {},
   "outputs": [],
   "source": []
  }
 ],
 "metadata": {
  "kernelspec": {
   "display_name": "Python [conda env:py37]",
   "language": "python",
   "name": "conda-env-py37-py"
  },
  "language_info": {
   "codemirror_mode": {
    "name": "ipython",
    "version": 3
   },
   "file_extension": ".py",
   "mimetype": "text/x-python",
   "name": "python",
   "nbconvert_exporter": "python",
   "pygments_lexer": "ipython3",
   "version": "3.7.11"
  }
 },
 "nbformat": 4,
 "nbformat_minor": 5
}
